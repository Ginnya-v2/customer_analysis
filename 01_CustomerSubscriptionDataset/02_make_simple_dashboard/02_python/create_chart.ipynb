{
 "cells": [
  {
   "cell_type": "markdown",
   "id": "a70d4ced",
   "metadata": {},
   "source": [
    "# 1. ライブラリのインポート"
   ]
  },
  {
   "cell_type": "code",
   "execution_count": 1,
   "id": "434356dc",
   "metadata": {},
   "outputs": [],
   "source": [
    "# 初めて実行するときは以下をコメントアウトして実行してください\n",
    "# !pip install --upgrade pip\n",
    "# !pip install --pandas\n",
    "# !pip install --matplotlib\n",
    "\n",
    "\n",
    "import pandas as pd # データを操作するライブラリ\n",
    "import matplotlib.pyplot as plt # グラフを作成するライブラリ\n",
    "plt.rcParams['font.family'] = 'Hiragino Sans' #日本語フォントを指定（Mac）\n",
    "# plt.rcParams['font.family'] = 'MS Gothic' #日本語フォントを指定（Windows）"
   ]
  },
  {
   "cell_type": "markdown",
   "id": "01c0a961",
   "metadata": {},
   "source": [
    "# 2. データのインポート  \n",
    "`pandas`の`read_csv`メソッドを利用してcsvファイルをインポートして`df`という名前のデータフレームを作成する。"
   ]
  },
  {
   "cell_type": "code",
   "execution_count": null,
   "id": "6ff3c48d",
   "metadata": {},
   "outputs": [],
   "source": [
    "df = pd.read_csv('../00_dataset/data.csv') #データが配置されている場所を指定"
   ]
  },
  {
   "cell_type": "markdown",
   "id": "d1b0a985",
   "metadata": {},
   "source": [
    "# 3.データの確認\n",
    "作成したデータフレーム名を入力するとデータの中身が確認できる"
   ]
  },
  {
   "cell_type": "code",
   "execution_count": 3,
   "id": "b1dbe6dd",
   "metadata": {},
   "outputs": [
    {
     "data": {
      "application/vnd.microsoft.datawrangler.viewer.v0+json": {
       "columns": [
        {
         "name": "index",
         "rawType": "object",
         "type": "string"
        },
        {
         "name": "0",
         "rawType": "object",
         "type": "unknown"
        },
        {
         "name": "1",
         "rawType": "object",
         "type": "unknown"
        },
        {
         "name": "2",
         "rawType": "object",
         "type": "unknown"
        },
        {
         "name": "3",
         "rawType": "object",
         "type": "unknown"
        },
        {
         "name": "4",
         "rawType": "object",
         "type": "unknown"
        }
       ],
       "conversionMethod": "pd.DataFrame",
       "ref": "3942ec2e-0fb4-44e0-b853-2e607984f339",
       "rows": [
        [
         "ケースID",
         "CC52120",
         "CC52122",
         "CC52124",
         "CC52126",
         "CC52127"
        ],
        [
         "日時",
         "2019-01-01 07:56:58",
         "2019-01-01 08:05:10",
         "2019-01-01 08:44:32",
         "2019-01-01 08:54:33",
         "2019-01-01 08:56:58"
        ],
        [
         "顧客ID",
         "C29793",
         "C29794",
         "C29795",
         "C29796",
         "C29797"
        ],
        [
         "年齢",
         "62",
         "61",
         "58",
         "58",
         "72"
        ],
        [
         "性別",
         "female",
         "male",
         "male",
         "male",
         "female"
        ],
        [
         "商品",
         "prd_1",
         "prd_1",
         "prd_1",
         "prd_1",
         "prd_1"
        ],
        [
         "契約日時",
         "2019-01-01 08:00:46",
         "2019-01-01 08:09:32",
         "2019-01-01 08:45:42",
         "2019-01-01 08:58:46",
         "2019-01-01 08:59:29"
        ],
        [
         "キャンセル日時",
         null,
         null,
         null,
         null,
         null
        ],
        [
         "商品名",
         "annual_subscription",
         "annual_subscription",
         "annual_subscription",
         "annual_subscription",
         "annual_subscription"
        ],
        [
         "価格",
         "1200",
         "1200",
         "1200",
         "1200",
         "1200"
        ],
        [
         "更新期間",
         "12",
         "12",
         "12",
         "12",
         "12"
        ]
       ],
       "shape": {
        "columns": 5,
        "rows": 11
       }
      },
      "text/html": [
       "<div>\n",
       "<style scoped>\n",
       "    .dataframe tbody tr th:only-of-type {\n",
       "        vertical-align: middle;\n",
       "    }\n",
       "\n",
       "    .dataframe tbody tr th {\n",
       "        vertical-align: top;\n",
       "    }\n",
       "\n",
       "    .dataframe thead th {\n",
       "        text-align: right;\n",
       "    }\n",
       "</style>\n",
       "<table border=\"1\" class=\"dataframe\">\n",
       "  <thead>\n",
       "    <tr style=\"text-align: right;\">\n",
       "      <th></th>\n",
       "      <th>0</th>\n",
       "      <th>1</th>\n",
       "      <th>2</th>\n",
       "      <th>3</th>\n",
       "      <th>4</th>\n",
       "    </tr>\n",
       "  </thead>\n",
       "  <tbody>\n",
       "    <tr>\n",
       "      <th>ケースID</th>\n",
       "      <td>CC52120</td>\n",
       "      <td>CC52122</td>\n",
       "      <td>CC52124</td>\n",
       "      <td>CC52126</td>\n",
       "      <td>CC52127</td>\n",
       "    </tr>\n",
       "    <tr>\n",
       "      <th>日時</th>\n",
       "      <td>2019-01-01 07:56:58</td>\n",
       "      <td>2019-01-01 08:05:10</td>\n",
       "      <td>2019-01-01 08:44:32</td>\n",
       "      <td>2019-01-01 08:54:33</td>\n",
       "      <td>2019-01-01 08:56:58</td>\n",
       "    </tr>\n",
       "    <tr>\n",
       "      <th>顧客ID</th>\n",
       "      <td>C29793</td>\n",
       "      <td>C29794</td>\n",
       "      <td>C29795</td>\n",
       "      <td>C29796</td>\n",
       "      <td>C29797</td>\n",
       "    </tr>\n",
       "    <tr>\n",
       "      <th>年齢</th>\n",
       "      <td>62</td>\n",
       "      <td>61</td>\n",
       "      <td>58</td>\n",
       "      <td>58</td>\n",
       "      <td>72</td>\n",
       "    </tr>\n",
       "    <tr>\n",
       "      <th>性別</th>\n",
       "      <td>female</td>\n",
       "      <td>male</td>\n",
       "      <td>male</td>\n",
       "      <td>male</td>\n",
       "      <td>female</td>\n",
       "    </tr>\n",
       "    <tr>\n",
       "      <th>商品</th>\n",
       "      <td>prd_1</td>\n",
       "      <td>prd_1</td>\n",
       "      <td>prd_1</td>\n",
       "      <td>prd_1</td>\n",
       "      <td>prd_1</td>\n",
       "    </tr>\n",
       "    <tr>\n",
       "      <th>契約日時</th>\n",
       "      <td>2019-01-01 08:00:46</td>\n",
       "      <td>2019-01-01 08:09:32</td>\n",
       "      <td>2019-01-01 08:45:42</td>\n",
       "      <td>2019-01-01 08:58:46</td>\n",
       "      <td>2019-01-01 08:59:29</td>\n",
       "    </tr>\n",
       "    <tr>\n",
       "      <th>キャンセル日時</th>\n",
       "      <td>NaN</td>\n",
       "      <td>NaN</td>\n",
       "      <td>NaN</td>\n",
       "      <td>NaN</td>\n",
       "      <td>NaN</td>\n",
       "    </tr>\n",
       "    <tr>\n",
       "      <th>商品名</th>\n",
       "      <td>annual_subscription</td>\n",
       "      <td>annual_subscription</td>\n",
       "      <td>annual_subscription</td>\n",
       "      <td>annual_subscription</td>\n",
       "      <td>annual_subscription</td>\n",
       "    </tr>\n",
       "    <tr>\n",
       "      <th>価格</th>\n",
       "      <td>1200</td>\n",
       "      <td>1200</td>\n",
       "      <td>1200</td>\n",
       "      <td>1200</td>\n",
       "      <td>1200</td>\n",
       "    </tr>\n",
       "    <tr>\n",
       "      <th>更新期間</th>\n",
       "      <td>12</td>\n",
       "      <td>12</td>\n",
       "      <td>12</td>\n",
       "      <td>12</td>\n",
       "      <td>12</td>\n",
       "    </tr>\n",
       "  </tbody>\n",
       "</table>\n",
       "</div>"
      ],
      "text/plain": [
       "                           0                    1                    2  \\\n",
       "ケースID                CC52120              CC52122              CC52124   \n",
       "日時       2019-01-01 07:56:58  2019-01-01 08:05:10  2019-01-01 08:44:32   \n",
       "顧客ID                  C29793               C29794               C29795   \n",
       "年齢                        62                   61                   58   \n",
       "性別                    female                 male                 male   \n",
       "商品                     prd_1                prd_1                prd_1   \n",
       "契約日時     2019-01-01 08:00:46  2019-01-01 08:09:32  2019-01-01 08:45:42   \n",
       "キャンセル日時                  NaN                  NaN                  NaN   \n",
       "商品名      annual_subscription  annual_subscription  annual_subscription   \n",
       "価格                      1200                 1200                 1200   \n",
       "更新期間                      12                   12                   12   \n",
       "\n",
       "                           3                    4  \n",
       "ケースID                CC52126              CC52127  \n",
       "日時       2019-01-01 08:54:33  2019-01-01 08:56:58  \n",
       "顧客ID                  C29796               C29797  \n",
       "年齢                        58                   72  \n",
       "性別                      male               female  \n",
       "商品                     prd_1                prd_1  \n",
       "契約日時     2019-01-01 08:58:46  2019-01-01 08:59:29  \n",
       "キャンセル日時                  NaN                  NaN  \n",
       "商品名      annual_subscription  annual_subscription  \n",
       "価格                      1200                 1200  \n",
       "更新期間                      12                   12  "
      ]
     },
     "execution_count": 3,
     "metadata": {},
     "output_type": "execute_result"
    }
   ],
   "source": [
    "df.head().T # データの最初の5行を表示\n"
   ]
  },
  {
   "cell_type": "markdown",
   "id": "aa2732bd",
   "metadata": {},
   "source": [
    "# 4.データの前処理"
   ]
  },
  {
   "cell_type": "markdown",
   "id": "5f3bbb8c",
   "metadata": {},
   "source": [
    "## 4-1. `年代`列の追加  \n",
    "年齢列から、29歳→20代のように変換した年代列を作成する。  \n",
    "10の位の値を取得して、10をかけ、'代'という文字を付け足す。  \n",
    "`29 // 10` とすれば10で割って小数点以下を切り捨て、10の位の値を取得できる。\n"
   ]
  },
  {
   "cell_type": "code",
   "execution_count": 4,
   "id": "e0aa6cee",
   "metadata": {},
   "outputs": [
    {
     "data": {
      "text/plain": [
       "0         60代\n",
       "1         60代\n",
       "2         50代\n",
       "3         50代\n",
       "4         70代\n",
       "         ... \n",
       "102177    30代\n",
       "102178    70代\n",
       "102179    40代\n",
       "102180    40代\n",
       "102181    40代\n",
       "Name: 年代, Length: 102182, dtype: object"
      ]
     },
     "execution_count": 4,
     "metadata": {},
     "output_type": "execute_result"
    }
   ],
   "source": [
    "df['年代'] = None # 年代列を作成する。（一時的にカラにしておく）\n",
    "df['年代'] = df['年齢'] // 10 # 10で割って、小数点以下を切り捨てる（10の位の値を取得）\n",
    "df['年代'] = df['年代'] * 10 # 10を掛ける\n",
    "df['年代'] = df['年代'].astype(str) # 文字列に変換する\n",
    "df['年代'] = df['年代'] + '代' # 代という文字を付け足す\n",
    "df['年代']"
   ]
  },
  {
   "cell_type": "markdown",
   "id": "76f8e174",
   "metadata": {},
   "source": [
    "## 4-2. `年`、`月`の列を追加\n",
    "`日時`列から`年`、`月`の値を取得して列を作成する。"
   ]
  },
  {
   "cell_type": "markdown",
   "id": "895d26fa",
   "metadata": {},
   "source": [
    "### 年  \n",
    "日時列の左から4文字目まで取得して、年の数値を抽出する。  \n",
    "年の数値に 年 の文字を追加する。"
   ]
  },
  {
   "cell_type": "code",
   "execution_count": 5,
   "id": "2ce80e90",
   "metadata": {},
   "outputs": [
    {
     "data": {
      "text/plain": [
       "0         2019年\n",
       "1         2019年\n",
       "2         2019年\n",
       "3         2019年\n",
       "4         2019年\n",
       "          ...  \n",
       "102177    2021年\n",
       "102178    2021年\n",
       "102179    2021年\n",
       "102180    2021年\n",
       "102181    2021年\n",
       "Name: 年, Length: 102182, dtype: object"
      ]
     },
     "execution_count": 5,
     "metadata": {},
     "output_type": "execute_result"
    }
   ],
   "source": [
    "df['年'] = None # 年の列を作成する（一時的にカラにしておく）\n",
    "df['年'] = df['日時'].str[:4] # .strで指定列の文字の値を取得する ⇨ [:4]で左から4文字目までの値を取得する\n",
    "df['年'] = df['年'] + '年' # 年という文字を付け足す\n",
    "df['年']"
   ]
  },
  {
   "cell_type": "markdown",
   "id": "3da59559",
   "metadata": {},
   "source": [
    "### 月  \n",
    "日時列の左から5~6文字目まで取得して、月の数値を抽出する。  \n",
    "月の数値に 月 の文字を追加する。"
   ]
  },
  {
   "cell_type": "code",
   "execution_count": 6,
   "id": "3a90dcbd",
   "metadata": {},
   "outputs": [
    {
     "data": {
      "text/plain": [
       "0         01月\n",
       "1         01月\n",
       "2         01月\n",
       "3         01月\n",
       "4         01月\n",
       "         ... \n",
       "102177    12月\n",
       "102178    12月\n",
       "102179    12月\n",
       "102180    12月\n",
       "102181    12月\n",
       "Name: 月, Length: 102182, dtype: object"
      ]
     },
     "execution_count": 6,
     "metadata": {},
     "output_type": "execute_result"
    }
   ],
   "source": [
    "df['月'] = None # 月の列を作成する（一時的にカラにしておく）\n",
    "df['月'] = df['日時'].str[5:7] # .strで指定列の文字の値を取得する ⇨ [5:7]で左から5~6文字目までの値を取得する(「まで」は指定したい数の一つ上の数字を記載する)\n",
    "df['月'] = df['月'] + '月' # 月という文字を付け足す\n",
    "df['月']"
   ]
  },
  {
   "cell_type": "markdown",
   "id": "6038c780",
   "metadata": {},
   "source": [
    "## 4-3. レコード数集計用の列を作成する\n",
    "後でグラフを作成するときに表示するカスタマサポート対応件数の集計をするために、`1`の値が入った列を追加する。"
   ]
  },
  {
   "cell_type": "code",
   "execution_count": 7,
   "id": "da603080",
   "metadata": {},
   "outputs": [
    {
     "data": {
      "text/plain": [
       "0         1\n",
       "1         1\n",
       "2         1\n",
       "3         1\n",
       "4         1\n",
       "         ..\n",
       "102177    1\n",
       "102178    1\n",
       "102179    1\n",
       "102180    1\n",
       "102181    1\n",
       "Name: 件数, Length: 102182, dtype: int64"
      ]
     },
     "execution_count": 7,
     "metadata": {},
     "output_type": "execute_result"
    }
   ],
   "source": [
    "df['件数'] = 1\n",
    "df['件数']"
   ]
  },
  {
   "cell_type": "markdown",
   "id": "fe9533f6",
   "metadata": {},
   "source": [
    "## 4-4. 完成したデータフレーム"
   ]
  },
  {
   "cell_type": "code",
   "execution_count": 8,
   "id": "fd90ab45",
   "metadata": {},
   "outputs": [
    {
     "data": {
      "application/vnd.microsoft.datawrangler.viewer.v0+json": {
       "columns": [
        {
         "name": "index",
         "rawType": "int64",
         "type": "integer"
        },
        {
         "name": "ケースID",
         "rawType": "object",
         "type": "string"
        },
        {
         "name": "日時",
         "rawType": "object",
         "type": "string"
        },
        {
         "name": "顧客ID",
         "rawType": "object",
         "type": "string"
        },
        {
         "name": "年齢",
         "rawType": "int64",
         "type": "integer"
        },
        {
         "name": "性別",
         "rawType": "object",
         "type": "string"
        },
        {
         "name": "商品",
         "rawType": "object",
         "type": "string"
        },
        {
         "name": "契約日時",
         "rawType": "object",
         "type": "string"
        },
        {
         "name": "キャンセル日時",
         "rawType": "object",
         "type": "unknown"
        },
        {
         "name": "商品名",
         "rawType": "object",
         "type": "string"
        },
        {
         "name": "価格",
         "rawType": "int64",
         "type": "integer"
        },
        {
         "name": "更新期間",
         "rawType": "int64",
         "type": "integer"
        },
        {
         "name": "年代",
         "rawType": "object",
         "type": "string"
        },
        {
         "name": "年",
         "rawType": "object",
         "type": "string"
        },
        {
         "name": "月",
         "rawType": "object",
         "type": "string"
        },
        {
         "name": "件数",
         "rawType": "int64",
         "type": "integer"
        }
       ],
       "conversionMethod": "pd.DataFrame",
       "ref": "d91e8b15-186b-44fc-bc95-7dc00e677ddb",
       "rows": [
        [
         "0",
         "CC52120",
         "2019-01-01 07:56:58",
         "C29793",
         "62",
         "female",
         "prd_1",
         "2019-01-01 08:00:46",
         null,
         "annual_subscription",
         "1200",
         "12",
         "60代",
         "2019年",
         "01月",
         "1"
        ],
        [
         "1",
         "CC52122",
         "2019-01-01 08:05:10",
         "C29794",
         "61",
         "male",
         "prd_1",
         "2019-01-01 08:09:32",
         null,
         "annual_subscription",
         "1200",
         "12",
         "60代",
         "2019年",
         "01月",
         "1"
        ],
        [
         "2",
         "CC52124",
         "2019-01-01 08:44:32",
         "C29795",
         "58",
         "male",
         "prd_1",
         "2019-01-01 08:45:42",
         null,
         "annual_subscription",
         "1200",
         "12",
         "50代",
         "2019年",
         "01月",
         "1"
        ],
        [
         "3",
         "CC52126",
         "2019-01-01 08:54:33",
         "C29796",
         "58",
         "male",
         "prd_1",
         "2019-01-01 08:58:46",
         null,
         "annual_subscription",
         "1200",
         "12",
         "50代",
         "2019年",
         "01月",
         "1"
        ],
        [
         "4",
         "CC52127",
         "2019-01-01 08:56:58",
         "C29797",
         "72",
         "female",
         "prd_1",
         "2019-01-01 08:59:29",
         null,
         "annual_subscription",
         "1200",
         "12",
         "70代",
         "2019年",
         "01月",
         "1"
        ],
        [
         "5",
         "CC52128",
         "2019-01-01 09:00:58",
         "C29798",
         "72",
         "female",
         "prd_1",
         "2019-01-01 09:05:47",
         null,
         "annual_subscription",
         "1200",
         "12",
         "70代",
         "2019年",
         "01月",
         "1"
        ],
        [
         "6",
         "CC52131",
         "2019-01-01 09:29:05",
         "C29799",
         "58",
         "male",
         "prd_1",
         "2019-01-01 09:32:08",
         null,
         "annual_subscription",
         "1200",
         "12",
         "50代",
         "2019年",
         "01月",
         "1"
        ],
        [
         "7",
         "CC52132",
         "2019-01-01 09:30:25",
         "C29800",
         "62",
         "female",
         "prd_1",
         "2019-01-01 09:34:09",
         null,
         "annual_subscription",
         "1200",
         "12",
         "60代",
         "2019年",
         "01月",
         "1"
        ],
        [
         "8",
         "CC52134",
         "2019-01-01 09:47:11",
         "C29801",
         "52",
         "male",
         "prd_1",
         "2019-01-01 09:51:36",
         null,
         "annual_subscription",
         "1200",
         "12",
         "50代",
         "2019年",
         "01月",
         "1"
        ],
        [
         "9",
         "CC52135",
         "2019-01-01 09:49:02",
         "C29802",
         "43",
         "female",
         "prd_1",
         "2019-01-01 09:53:54",
         null,
         "annual_subscription",
         "1200",
         "12",
         "40代",
         "2019年",
         "01月",
         "1"
        ],
        [
         "10",
         "CC52136",
         "2019-01-01 09:50:03",
         "C29804",
         "44",
         "female",
         "prd_1",
         "2019-01-01 09:56:09",
         "2021-11-28 18:31:42",
         "annual_subscription",
         "1200",
         "12",
         "40代",
         "2019年",
         "01月",
         "1"
        ],
        [
         "11",
         "CC52137",
         "2019-01-01 09:52:44",
         "C29803",
         "63",
         "female",
         "prd_2",
         "2019-01-01 09:55:00",
         "2020-02-03 16:53:29",
         "monthly_subscription",
         "125",
         "1",
         "60代",
         "2019年",
         "01月",
         "1"
        ],
        [
         "12",
         "CC52138",
         "2019-01-01 09:55:25",
         "C29805",
         "30",
         "female",
         "prd_2",
         "2019-01-01 09:58:43",
         "2020-03-22 14:36:53",
         "monthly_subscription",
         "125",
         "1",
         "30代",
         "2019年",
         "01月",
         "1"
        ],
        [
         "13",
         "CC52140",
         "2019-01-01 09:59:21",
         "C29806",
         "63",
         "male",
         "prd_2",
         "2019-01-01 10:03:46",
         "2019-03-12 13:34:49",
         "monthly_subscription",
         "125",
         "1",
         "60代",
         "2019年",
         "01月",
         "1"
        ],
        [
         "14",
         "CC52141",
         "2019-01-01 10:04:52",
         "C29807",
         "65",
         "female",
         "prd_1",
         "2019-01-01 10:06:59",
         null,
         "annual_subscription",
         "1200",
         "12",
         "60代",
         "2019年",
         "01月",
         "1"
        ],
        [
         "15",
         "CC52142",
         "2019-01-01 10:13:15",
         "C29808",
         "53",
         "female",
         "prd_1",
         "2019-01-01 10:18:06",
         null,
         "annual_subscription",
         "1200",
         "12",
         "50代",
         "2019年",
         "01月",
         "1"
        ],
        [
         "16",
         "CC52143",
         "2019-01-01 10:20:27",
         "C29810",
         "34",
         "female",
         "prd_2",
         "2019-01-01 10:26:59",
         null,
         "monthly_subscription",
         "125",
         "1",
         "30代",
         "2019年",
         "01月",
         "1"
        ],
        [
         "17",
         "CC52145",
         "2019-01-01 10:22:09",
         "C29811",
         "52",
         "male",
         "prd_1",
         "2019-01-01 10:27:57",
         null,
         "annual_subscription",
         "1200",
         "12",
         "50代",
         "2019年",
         "01月",
         "1"
        ],
        [
         "18",
         "CC52146",
         "2019-01-01 10:22:46",
         "C29809",
         "42",
         "male",
         "prd_1",
         "2019-01-01 10:26:34",
         "2021-03-30 15:23:24",
         "annual_subscription",
         "1200",
         "12",
         "40代",
         "2019年",
         "01月",
         "1"
        ],
        [
         "19",
         "CC52147",
         "2019-01-01 10:30:15",
         "C29812",
         "65",
         "male",
         "prd_1",
         "2019-01-01 10:33:15",
         "2021-06-02 17:02:34",
         "annual_subscription",
         "1200",
         "12",
         "60代",
         "2019年",
         "01月",
         "1"
        ],
        [
         "20",
         "CC52148",
         "2019-01-01 10:32:22",
         "C29813",
         "42",
         "female",
         "prd_2",
         "2019-01-01 10:37:08",
         null,
         "monthly_subscription",
         "125",
         "1",
         "40代",
         "2019年",
         "01月",
         "1"
        ],
        [
         "21",
         "CC52149",
         "2019-01-01 10:34:34",
         "C29814",
         "66",
         "male",
         "prd_1",
         "2019-01-01 10:37:42",
         null,
         "annual_subscription",
         "1200",
         "12",
         "60代",
         "2019年",
         "01月",
         "1"
        ],
        [
         "22",
         "CC52150",
         "2019-01-01 10:37:39",
         "C29815",
         "44",
         "female",
         "prd_2",
         "2019-01-01 10:39:38",
         null,
         "monthly_subscription",
         "125",
         "1",
         "40代",
         "2019年",
         "01月",
         "1"
        ],
        [
         "23",
         "CC52151",
         "2019-01-01 10:39:13",
         "C29816",
         "55",
         "male",
         "prd_1",
         "2019-01-01 10:42:55",
         null,
         "annual_subscription",
         "1200",
         "12",
         "50代",
         "2019年",
         "01月",
         "1"
        ],
        [
         "24",
         "CC52152",
         "2019-01-01 10:40:16",
         "C29819",
         "56",
         "male",
         "prd_2",
         "2019-01-01 10:45:03",
         "2019-08-18 17:49:41",
         "monthly_subscription",
         "125",
         "1",
         "50代",
         "2019年",
         "01月",
         "1"
        ],
        [
         "25",
         "CC52153",
         "2019-01-01 10:40:27",
         "C29817",
         "57",
         "male",
         "prd_1",
         "2019-01-01 10:44:01",
         null,
         "annual_subscription",
         "1200",
         "12",
         "50代",
         "2019年",
         "01月",
         "1"
        ],
        [
         "26",
         "CC52154",
         "2019-01-01 10:41:36",
         "C29818",
         "50",
         "male",
         "prd_1",
         "2019-01-01 10:44:12",
         "2021-12-11 14:57:27",
         "annual_subscription",
         "1200",
         "12",
         "50代",
         "2019年",
         "01月",
         "1"
        ],
        [
         "27",
         "CC52155",
         "2019-01-01 10:42:43",
         "C29820",
         "51",
         "male",
         "prd_1",
         "2019-01-01 10:47:34",
         "2021-06-24 16:15:21",
         "annual_subscription",
         "1200",
         "12",
         "50代",
         "2019年",
         "01月",
         "1"
        ],
        [
         "28",
         "CC52156",
         "2019-01-01 10:44:08",
         "C29821",
         "69",
         "male",
         "prd_1",
         "2019-01-01 10:47:47",
         "2021-09-04 11:21:33",
         "annual_subscription",
         "1200",
         "12",
         "60代",
         "2019年",
         "01月",
         "1"
        ],
        [
         "29",
         "CC52157",
         "2019-01-01 10:48:38",
         "C29822",
         "59",
         "female",
         "prd_1",
         "2019-01-01 10:52:55",
         null,
         "annual_subscription",
         "1200",
         "12",
         "50代",
         "2019年",
         "01月",
         "1"
        ],
        [
         "30",
         "CC52158",
         "2019-01-01 10:50:46",
         "C29823",
         "50",
         "female",
         "prd_1",
         "2019-01-01 10:55:52",
         null,
         "annual_subscription",
         "1200",
         "12",
         "50代",
         "2019年",
         "01月",
         "1"
        ],
        [
         "31",
         "CC52159",
         "2019-01-01 10:53:27",
         "C29824",
         "64",
         "female",
         "prd_2",
         "2019-01-01 10:57:59",
         "2021-11-17 13:19:57",
         "monthly_subscription",
         "125",
         "1",
         "60代",
         "2019年",
         "01月",
         "1"
        ],
        [
         "32",
         "CC52161",
         "2019-01-01 10:54:59",
         "C29825",
         "69",
         "female",
         "prd_2",
         "2019-01-01 10:59:18",
         "2019-11-15 17:32:17",
         "monthly_subscription",
         "125",
         "1",
         "60代",
         "2019年",
         "01月",
         "1"
        ],
        [
         "33",
         "CC52162",
         "2019-01-01 10:57:33",
         "C29826",
         "60",
         "male",
         "prd_2",
         "2019-01-01 11:01:40",
         "2019-07-04 12:40:19",
         "monthly_subscription",
         "125",
         "1",
         "60代",
         "2019年",
         "01月",
         "1"
        ],
        [
         "34",
         "CC52165",
         "2019-01-01 11:02:00",
         "C29828",
         "56",
         "female",
         "prd_1",
         "2019-01-01 11:07:36",
         "2019-06-06 13:55:05",
         "annual_subscription",
         "1200",
         "12",
         "50代",
         "2019年",
         "01月",
         "1"
        ],
        [
         "35",
         "CC52166",
         "2019-01-01 11:02:53",
         "C29827",
         "58",
         "male",
         "prd_2",
         "2019-01-01 11:06:10",
         "2019-12-16 11:51:33",
         "monthly_subscription",
         "125",
         "1",
         "50代",
         "2019年",
         "01月",
         "1"
        ],
        [
         "36",
         "CC52167",
         "2019-01-01 11:06:01",
         "C29829",
         "48",
         "male",
         "prd_2",
         "2019-01-01 11:09:05",
         null,
         "monthly_subscription",
         "125",
         "1",
         "40代",
         "2019年",
         "01月",
         "1"
        ],
        [
         "37",
         "CC52169",
         "2019-01-01 11:09:27",
         "C29830",
         "42",
         "female",
         "prd_1",
         "2019-01-01 11:15:14",
         null,
         "annual_subscription",
         "1200",
         "12",
         "40代",
         "2019年",
         "01月",
         "1"
        ],
        [
         "38",
         "CC52171",
         "2019-01-01 11:12:28",
         "C29831",
         "46",
         "female",
         "prd_1",
         "2019-01-01 11:16:48",
         null,
         "annual_subscription",
         "1200",
         "12",
         "40代",
         "2019年",
         "01月",
         "1"
        ],
        [
         "39",
         "CC52172",
         "2019-01-01 11:13:55",
         "C29832",
         "51",
         "male",
         "prd_1",
         "2019-01-01 11:18:32",
         "2019-06-11 11:53:11",
         "annual_subscription",
         "1200",
         "12",
         "50代",
         "2019年",
         "01月",
         "1"
        ],
        [
         "40",
         "CC52173",
         "2019-01-01 11:14:02",
         "C29833",
         "47",
         "female",
         "prd_2",
         "2019-01-01 11:19:05",
         null,
         "monthly_subscription",
         "125",
         "1",
         "40代",
         "2019年",
         "01月",
         "1"
        ],
        [
         "41",
         "CC52174",
         "2019-01-01 11:19:01",
         "C29834",
         "58",
         "female",
         "prd_1",
         "2019-01-01 11:23:09",
         null,
         "annual_subscription",
         "1200",
         "12",
         "50代",
         "2019年",
         "01月",
         "1"
        ],
        [
         "42",
         "CC52175",
         "2019-01-01 11:21:38",
         "C29835",
         "67",
         "female",
         "prd_2",
         "2019-01-01 11:26:16",
         "2021-03-18 15:39:50",
         "monthly_subscription",
         "125",
         "1",
         "60代",
         "2019年",
         "01月",
         "1"
        ],
        [
         "43",
         "CC52177",
         "2019-01-01 11:26:03",
         "C29837",
         "63",
         "female",
         "prd_2",
         "2019-01-01 11:29:23",
         "2019-03-22 13:31:38",
         "monthly_subscription",
         "125",
         "1",
         "60代",
         "2019年",
         "01月",
         "1"
        ],
        [
         "44",
         "CC52178",
         "2019-01-01 11:26:03",
         "C29838",
         "48",
         "male",
         "prd_1",
         "2019-01-01 11:29:32",
         "2019-12-11 14:27:22",
         "annual_subscription",
         "1200",
         "12",
         "40代",
         "2019年",
         "01月",
         "1"
        ],
        [
         "45",
         "CC52179",
         "2019-01-01 11:26:27",
         "C29836",
         "56",
         "female",
         "prd_1",
         "2019-01-01 11:28:35",
         "2021-08-31 19:34:08",
         "annual_subscription",
         "1200",
         "12",
         "50代",
         "2019年",
         "01月",
         "1"
        ],
        [
         "46",
         "CC52180",
         "2019-01-01 11:27:15",
         "C29839",
         "66",
         "male",
         "prd_1",
         "2019-01-01 11:30:32",
         null,
         "annual_subscription",
         "1200",
         "12",
         "60代",
         "2019年",
         "01月",
         "1"
        ],
        [
         "47",
         "CC52181",
         "2019-01-01 11:28:31",
         "C29840",
         "31",
         "male",
         "prd_1",
         "2019-01-01 11:32:43",
         "2020-02-19 16:30:26",
         "annual_subscription",
         "1200",
         "12",
         "30代",
         "2019年",
         "01月",
         "1"
        ],
        [
         "48",
         "CC52182",
         "2019-01-01 11:32:19",
         "C29841",
         "53",
         "female",
         "prd_1",
         "2019-01-01 11:36:02",
         null,
         "annual_subscription",
         "1200",
         "12",
         "50代",
         "2019年",
         "01月",
         "1"
        ],
        [
         "49",
         "CC52183",
         "2019-01-01 11:33:10",
         "C29842",
         "53",
         "male",
         "prd_1",
         "2019-01-01 11:36:26",
         "2020-06-28 11:16:47",
         "annual_subscription",
         "1200",
         "12",
         "50代",
         "2019年",
         "01月",
         "1"
        ]
       ],
       "shape": {
        "columns": 15,
        "rows": 102182
       }
      },
      "text/html": [
       "<div>\n",
       "<style scoped>\n",
       "    .dataframe tbody tr th:only-of-type {\n",
       "        vertical-align: middle;\n",
       "    }\n",
       "\n",
       "    .dataframe tbody tr th {\n",
       "        vertical-align: top;\n",
       "    }\n",
       "\n",
       "    .dataframe thead th {\n",
       "        text-align: right;\n",
       "    }\n",
       "</style>\n",
       "<table border=\"1\" class=\"dataframe\">\n",
       "  <thead>\n",
       "    <tr style=\"text-align: right;\">\n",
       "      <th></th>\n",
       "      <th>ケースID</th>\n",
       "      <th>日時</th>\n",
       "      <th>顧客ID</th>\n",
       "      <th>年齢</th>\n",
       "      <th>性別</th>\n",
       "      <th>商品</th>\n",
       "      <th>契約日時</th>\n",
       "      <th>キャンセル日時</th>\n",
       "      <th>商品名</th>\n",
       "      <th>価格</th>\n",
       "      <th>更新期間</th>\n",
       "      <th>年代</th>\n",
       "      <th>年</th>\n",
       "      <th>月</th>\n",
       "      <th>件数</th>\n",
       "    </tr>\n",
       "  </thead>\n",
       "  <tbody>\n",
       "    <tr>\n",
       "      <th>0</th>\n",
       "      <td>CC52120</td>\n",
       "      <td>2019-01-01 07:56:58</td>\n",
       "      <td>C29793</td>\n",
       "      <td>62</td>\n",
       "      <td>female</td>\n",
       "      <td>prd_1</td>\n",
       "      <td>2019-01-01 08:00:46</td>\n",
       "      <td>NaN</td>\n",
       "      <td>annual_subscription</td>\n",
       "      <td>1200</td>\n",
       "      <td>12</td>\n",
       "      <td>60代</td>\n",
       "      <td>2019年</td>\n",
       "      <td>01月</td>\n",
       "      <td>1</td>\n",
       "    </tr>\n",
       "    <tr>\n",
       "      <th>1</th>\n",
       "      <td>CC52122</td>\n",
       "      <td>2019-01-01 08:05:10</td>\n",
       "      <td>C29794</td>\n",
       "      <td>61</td>\n",
       "      <td>male</td>\n",
       "      <td>prd_1</td>\n",
       "      <td>2019-01-01 08:09:32</td>\n",
       "      <td>NaN</td>\n",
       "      <td>annual_subscription</td>\n",
       "      <td>1200</td>\n",
       "      <td>12</td>\n",
       "      <td>60代</td>\n",
       "      <td>2019年</td>\n",
       "      <td>01月</td>\n",
       "      <td>1</td>\n",
       "    </tr>\n",
       "    <tr>\n",
       "      <th>2</th>\n",
       "      <td>CC52124</td>\n",
       "      <td>2019-01-01 08:44:32</td>\n",
       "      <td>C29795</td>\n",
       "      <td>58</td>\n",
       "      <td>male</td>\n",
       "      <td>prd_1</td>\n",
       "      <td>2019-01-01 08:45:42</td>\n",
       "      <td>NaN</td>\n",
       "      <td>annual_subscription</td>\n",
       "      <td>1200</td>\n",
       "      <td>12</td>\n",
       "      <td>50代</td>\n",
       "      <td>2019年</td>\n",
       "      <td>01月</td>\n",
       "      <td>1</td>\n",
       "    </tr>\n",
       "    <tr>\n",
       "      <th>3</th>\n",
       "      <td>CC52126</td>\n",
       "      <td>2019-01-01 08:54:33</td>\n",
       "      <td>C29796</td>\n",
       "      <td>58</td>\n",
       "      <td>male</td>\n",
       "      <td>prd_1</td>\n",
       "      <td>2019-01-01 08:58:46</td>\n",
       "      <td>NaN</td>\n",
       "      <td>annual_subscription</td>\n",
       "      <td>1200</td>\n",
       "      <td>12</td>\n",
       "      <td>50代</td>\n",
       "      <td>2019年</td>\n",
       "      <td>01月</td>\n",
       "      <td>1</td>\n",
       "    </tr>\n",
       "    <tr>\n",
       "      <th>4</th>\n",
       "      <td>CC52127</td>\n",
       "      <td>2019-01-01 08:56:58</td>\n",
       "      <td>C29797</td>\n",
       "      <td>72</td>\n",
       "      <td>female</td>\n",
       "      <td>prd_1</td>\n",
       "      <td>2019-01-01 08:59:29</td>\n",
       "      <td>NaN</td>\n",
       "      <td>annual_subscription</td>\n",
       "      <td>1200</td>\n",
       "      <td>12</td>\n",
       "      <td>70代</td>\n",
       "      <td>2019年</td>\n",
       "      <td>01月</td>\n",
       "      <td>1</td>\n",
       "    </tr>\n",
       "    <tr>\n",
       "      <th>...</th>\n",
       "      <td>...</td>\n",
       "      <td>...</td>\n",
       "      <td>...</td>\n",
       "      <td>...</td>\n",
       "      <td>...</td>\n",
       "      <td>...</td>\n",
       "      <td>...</td>\n",
       "      <td>...</td>\n",
       "      <td>...</td>\n",
       "      <td>...</td>\n",
       "      <td>...</td>\n",
       "      <td>...</td>\n",
       "      <td>...</td>\n",
       "      <td>...</td>\n",
       "      <td>...</td>\n",
       "    </tr>\n",
       "    <tr>\n",
       "      <th>102177</th>\n",
       "      <td>CC330493</td>\n",
       "      <td>2021-12-31 14:11:33</td>\n",
       "      <td>C131970</td>\n",
       "      <td>39</td>\n",
       "      <td>female</td>\n",
       "      <td>prd_1</td>\n",
       "      <td>2021-12-31 14:18:00</td>\n",
       "      <td>NaN</td>\n",
       "      <td>annual_subscription</td>\n",
       "      <td>1200</td>\n",
       "      <td>12</td>\n",
       "      <td>30代</td>\n",
       "      <td>2021年</td>\n",
       "      <td>12月</td>\n",
       "      <td>1</td>\n",
       "    </tr>\n",
       "    <tr>\n",
       "      <th>102178</th>\n",
       "      <td>CC330498</td>\n",
       "      <td>2021-12-31 14:32:31</td>\n",
       "      <td>C131971</td>\n",
       "      <td>77</td>\n",
       "      <td>male</td>\n",
       "      <td>prd_2</td>\n",
       "      <td>2021-12-31 14:35:23</td>\n",
       "      <td>NaN</td>\n",
       "      <td>monthly_subscription</td>\n",
       "      <td>125</td>\n",
       "      <td>1</td>\n",
       "      <td>70代</td>\n",
       "      <td>2021年</td>\n",
       "      <td>12月</td>\n",
       "      <td>1</td>\n",
       "    </tr>\n",
       "    <tr>\n",
       "      <th>102179</th>\n",
       "      <td>CC330502</td>\n",
       "      <td>2021-12-31 14:36:06</td>\n",
       "      <td>C131972</td>\n",
       "      <td>49</td>\n",
       "      <td>male</td>\n",
       "      <td>prd_2</td>\n",
       "      <td>2021-12-31 14:41:15</td>\n",
       "      <td>NaN</td>\n",
       "      <td>monthly_subscription</td>\n",
       "      <td>125</td>\n",
       "      <td>1</td>\n",
       "      <td>40代</td>\n",
       "      <td>2021年</td>\n",
       "      <td>12月</td>\n",
       "      <td>1</td>\n",
       "    </tr>\n",
       "    <tr>\n",
       "      <th>102180</th>\n",
       "      <td>CC330515</td>\n",
       "      <td>2021-12-31 15:02:11</td>\n",
       "      <td>C131973</td>\n",
       "      <td>46</td>\n",
       "      <td>male</td>\n",
       "      <td>prd_2</td>\n",
       "      <td>2021-12-31 15:05:48</td>\n",
       "      <td>NaN</td>\n",
       "      <td>monthly_subscription</td>\n",
       "      <td>125</td>\n",
       "      <td>1</td>\n",
       "      <td>40代</td>\n",
       "      <td>2021年</td>\n",
       "      <td>12月</td>\n",
       "      <td>1</td>\n",
       "    </tr>\n",
       "    <tr>\n",
       "      <th>102181</th>\n",
       "      <td>CC330527</td>\n",
       "      <td>2021-12-31 15:33:29</td>\n",
       "      <td>C131974</td>\n",
       "      <td>45</td>\n",
       "      <td>male</td>\n",
       "      <td>prd_1</td>\n",
       "      <td>2021-12-31 15:37:13</td>\n",
       "      <td>NaN</td>\n",
       "      <td>annual_subscription</td>\n",
       "      <td>1200</td>\n",
       "      <td>12</td>\n",
       "      <td>40代</td>\n",
       "      <td>2021年</td>\n",
       "      <td>12月</td>\n",
       "      <td>1</td>\n",
       "    </tr>\n",
       "  </tbody>\n",
       "</table>\n",
       "<p>102182 rows × 15 columns</p>\n",
       "</div>"
      ],
      "text/plain": [
       "           ケースID                   日時     顧客ID  年齢      性別     商品  \\\n",
       "0        CC52120  2019-01-01 07:56:58   C29793  62  female  prd_1   \n",
       "1        CC52122  2019-01-01 08:05:10   C29794  61    male  prd_1   \n",
       "2        CC52124  2019-01-01 08:44:32   C29795  58    male  prd_1   \n",
       "3        CC52126  2019-01-01 08:54:33   C29796  58    male  prd_1   \n",
       "4        CC52127  2019-01-01 08:56:58   C29797  72  female  prd_1   \n",
       "...          ...                  ...      ...  ..     ...    ...   \n",
       "102177  CC330493  2021-12-31 14:11:33  C131970  39  female  prd_1   \n",
       "102178  CC330498  2021-12-31 14:32:31  C131971  77    male  prd_2   \n",
       "102179  CC330502  2021-12-31 14:36:06  C131972  49    male  prd_2   \n",
       "102180  CC330515  2021-12-31 15:02:11  C131973  46    male  prd_2   \n",
       "102181  CC330527  2021-12-31 15:33:29  C131974  45    male  prd_1   \n",
       "\n",
       "                       契約日時 キャンセル日時                   商品名    価格  更新期間   年代  \\\n",
       "0       2019-01-01 08:00:46     NaN   annual_subscription  1200    12  60代   \n",
       "1       2019-01-01 08:09:32     NaN   annual_subscription  1200    12  60代   \n",
       "2       2019-01-01 08:45:42     NaN   annual_subscription  1200    12  50代   \n",
       "3       2019-01-01 08:58:46     NaN   annual_subscription  1200    12  50代   \n",
       "4       2019-01-01 08:59:29     NaN   annual_subscription  1200    12  70代   \n",
       "...                     ...     ...                   ...   ...   ...  ...   \n",
       "102177  2021-12-31 14:18:00     NaN   annual_subscription  1200    12  30代   \n",
       "102178  2021-12-31 14:35:23     NaN  monthly_subscription   125     1  70代   \n",
       "102179  2021-12-31 14:41:15     NaN  monthly_subscription   125     1  40代   \n",
       "102180  2021-12-31 15:05:48     NaN  monthly_subscription   125     1  40代   \n",
       "102181  2021-12-31 15:37:13     NaN   annual_subscription  1200    12  40代   \n",
       "\n",
       "            年    月  件数  \n",
       "0       2019年  01月   1  \n",
       "1       2019年  01月   1  \n",
       "2       2019年  01月   1  \n",
       "3       2019年  01月   1  \n",
       "4       2019年  01月   1  \n",
       "...       ...  ...  ..  \n",
       "102177  2021年  12月   1  \n",
       "102178  2021年  12月   1  \n",
       "102179  2021年  12月   1  \n",
       "102180  2021年  12月   1  \n",
       "102181  2021年  12月   1  \n",
       "\n",
       "[102182 rows x 15 columns]"
      ]
     },
     "execution_count": 8,
     "metadata": {},
     "output_type": "execute_result"
    }
   ],
   "source": [
    "df"
   ]
  },
  {
   "cell_type": "markdown",
   "id": "f1bfe497",
   "metadata": {},
   "source": [
    "# 5. グラフの作成\n",
    "はじめにインポートしたmatplotlibというライブラリを用いてグラフを作成する"
   ]
  },
  {
   "cell_type": "markdown",
   "id": "a8195970",
   "metadata": {},
   "source": [
    "## 5-1. カードを作成する"
   ]
  },
  {
   "cell_type": "code",
   "execution_count": 9,
   "id": "450e7b88",
   "metadata": {},
   "outputs": [
    {
     "name": "stdout",
     "output_type": "stream",
     "text": [
      "カスタマサポート対応件数\n",
      "102182\n"
     ]
    }
   ],
   "source": [
    "# # カードに表示する値を設定する\n",
    "\n",
    "title = 'カスタマサポート対応件数'\n",
    "value = df['件数'].sum() #4-4で設定した件数列の総計をしてレコード数を取得\n",
    "\n",
    "print(title)\n",
    "print(value)"
   ]
  },
  {
   "cell_type": "code",
   "execution_count": 10,
   "id": "00f77988",
   "metadata": {},
   "outputs": [
    {
     "data": {
      "image/png": "[encoded data removed]",
      "text/plain": [
       "<Figure size 400x200 with 1 Axes>"
      ]
     },
     "metadata": {},
     "output_type": "display_data"
    }
   ],
   "source": [
    "# # 最小限の設定でグラフを表示\n",
    "\n",
    "fig = plt.figure(figsize=(4,2)) # グラフのサイズを指定\n",
    "\n",
    "# タイトルを表示\n",
    "plt.text(\n",
    "    0.25, # 横軸方向の位置を指定\n",
    "    0.8, # 縦軸方向の位置を指定\n",
    "    title # 表示する文字を指定\n",
    "  )\n",
    "\n",
    "plt.text(\n",
    "    0.4, # 横軸方向の位置を指定\n",
    "    0.5, # 縦軸方向の位置を指定\n",
    "    value # 表示する文字を指定\n",
    "  )\n",
    "\n",
    "plt.show() #グラフを表示"
   ]
  },
  {
   "cell_type": "code",
   "execution_count": 11,
   "id": "a2d32c30",
   "metadata": {},
   "outputs": [
    {
     "data": {
      "image/png": "[encoded data removed]",
      "text/plain": [
       "<Figure size 400x200 with 1 Axes>"
      ]
     },
     "metadata": {},
     "output_type": "display_data"
    }
   ],
   "source": [
    "# # フォーマットを調整してカードを表示\n",
    "\n",
    "fig = plt.figure(figsize=(4,2)) # グラフのサイズを指定\n",
    "fig.patch.set_facecolor('#0017C1') #背景色を設定\n",
    "plt.axis('off') # 縦軸、横軸を非表示にする\n",
    "\n",
    "\n",
    "plt.text(\n",
    "    0.5, # 横軸方向の位置を指定 ha='center'で開始点を中に設定したので、0.5に変更\n",
    "    0.8, # 縦軸方向の位置を指定\n",
    "    title, # 表示する文字を指定\n",
    "    ha='center', # 横軸方向の開始位置を中心に設定\n",
    "    fontsize =14, # フォントサイズを指定\n",
    "    color='white' # フォントカラーを指定\n",
    "  )\n",
    "\n",
    "\n",
    "plt.text(\n",
    "    0.5, # 横軸方向の位置を指定\n",
    "    0.5, # 縦軸方向の位置を指定\n",
    "    f\"{value:,}\", # 表示する文字を指定\n",
    "    ha='center',  # 横軸方向の開始位置を中心に設定\n",
    "    va='center', # 縦軸方向の開始位置を中心に設定\n",
    "    fontsize =28, # フォントサイズを指定\n",
    "    color='white' # フォントカラーを指定\n",
    "  )\n",
    "\n",
    "plt.show() #グラフを表示"
   ]
  },
  {
   "cell_type": "code",
   "execution_count": 40,
   "id": "7cd0ce2b",
   "metadata": {},
   "outputs": [],
   "source": [
    "def create_card(ax, value):\n",
    "    # 軸全体の背景色を青に設定\n",
    "    ax.set_facecolor('#0017C1')\n",
    "\n",
    "    # 軸線・目盛りなどを非表示\n",
    "    ax.set_xticks([])\n",
    "    ax.set_yticks([])\n",
    "    for spine in ax.spines.values():\n",
    "        spine.set_visible(False)\n",
    "\n",
    "    # 上部テキスト（ラベル）\n",
    "    ax.text(\n",
    "        0.5, 0.75,  # 位置（中央上）\n",
    "        'カスタマサポート対応件数',\n",
    "        ha='center', va='center',\n",
    "        fontsize=14, color='white'\n",
    "    )\n",
    "\n",
    "    # 中央テキスト（値）\n",
    "    ax.text(\n",
    "        0.5, 0.4,\n",
    "        f\"{value:,}\",\n",
    "        ha='center', va='center',\n",
    "        fontsize=28, color='white'\n",
    "    )\n"
   ]
  },
  {
   "cell_type": "markdown",
   "id": "3a0891bf",
   "metadata": {},
   "source": [
    "## 5-2.ドーナッツグラフ"
   ]
  },
  {
   "cell_type": "code",
   "execution_count": null,
   "id": "d36de695",
   "metadata": {},
   "outputs": [
    {
     "data": {
      "application/vnd.microsoft.datawrangler.viewer.v0+json": {
       "columns": [
        {
         "name": "index",
         "rawType": "int64",
         "type": "integer"
        },
        {
         "name": "性別",
         "rawType": "object",
         "type": "string"
        },
        {
         "name": "件数",
         "rawType": "int64",
         "type": "integer"
        }
       ],
       "conversionMethod": "pd.DataFrame",
       "ref": "ff7e6eb6-877b-4a75-975c-0ebf88c26328",
       "rows": [
        [
         "0",
         "female",
         "49158"
        ],
        [
         "1",
         "male",
         "53024"
        ]
       ],
       "shape": {
        "columns": 2,
        "rows": 2
       }
      },
      "text/html": [
       "<div>\n",
       "<style scoped>\n",
       "    .dataframe tbody tr th:only-of-type {\n",
       "        vertical-align: middle;\n",
       "    }\n",
       "\n",
       "    .dataframe tbody tr th {\n",
       "        vertical-align: top;\n",
       "    }\n",
       "\n",
       "    .dataframe thead th {\n",
       "        text-align: right;\n",
       "    }\n",
       "</style>\n",
       "<table border=\"1\" class=\"dataframe\">\n",
       "  <thead>\n",
       "    <tr style=\"text-align: right;\">\n",
       "      <th></th>\n",
       "      <th>性別</th>\n",
       "      <th>件数</th>\n",
       "    </tr>\n",
       "  </thead>\n",
       "  <tbody>\n",
       "    <tr>\n",
       "      <th>0</th>\n",
       "      <td>female</td>\n",
       "      <td>49158</td>\n",
       "    </tr>\n",
       "    <tr>\n",
       "      <th>1</th>\n",
       "      <td>male</td>\n",
       "      <td>53024</td>\n",
       "    </tr>\n",
       "  </tbody>\n",
       "</table>\n",
       "</div>"
      ],
      "text/plain": [
       "       性別     件数\n",
       "0  female  49158\n",
       "1    male  53024"
      ]
     },
     "execution_count": 15,
     "metadata": {},
     "output_type": "execute_result"
    }
   ],
   "source": [
    "df_tmp = df.groupby(['性別'])['件数'].sum().reset_index() # 性別ごとの件数を集計する\n",
    "df_tmp"
   ]
  },
  {
   "cell_type": "code",
   "execution_count": 17,
   "id": "48763b9d",
   "metadata": {},
   "outputs": [
    {
     "name": "stdout",
     "output_type": "stream",
     "text": [
      "['female' 'male']\n",
      "[49158 53024]\n"
     ]
    }
   ],
   "source": [
    "# グラフを作成する要素を設定する\n",
    "labels = df_tmp['性別'].values # 性別の値を取得\n",
    "sizes = df_tmp['件数'].values # 件数の値を取得\n",
    "\n",
    "print(labels)\n",
    "print(sizes)\n"
   ]
  },
  {
   "cell_type": "code",
   "execution_count": 18,
   "id": "13aadb76",
   "metadata": {},
   "outputs": [
    {
     "data": {
      "text/plain": [
       "([<matplotlib.patches.Wedge at 0x12ce7fc50>,\n",
       "  <matplotlib.patches.Wedge at 0x12c96f810>],\n",
       " [Text(0.06533474198393058, 1.0980580000573255, 'female'),\n",
       "  Text(-0.06533464598864736, -1.098058005769066, 'male')])"
      ]
     },
     "execution_count": 18,
     "metadata": {},
     "output_type": "execute_result"
    },
    {
     "data": {
      "image/png": "[encoded data removed]",
      "text/plain": [
       "<Figure size 640x480 with 1 Axes>"
      ]
     },
     "metadata": {},
     "output_type": "display_data"
    }
   ],
   "source": [
    "# 円グラフ（ドーナツ型にするには width を指定）\n",
    "plt.pie(\n",
    "    sizes,\n",
    "    labels=labels,\n",
    "    wedgeprops={'width': 0.5}  # ← ここでドーナツ型に\n",
    ")"
   ]
  },
  {
   "cell_type": "code",
   "execution_count": null,
   "id": "98341243",
   "metadata": {},
   "outputs": [
    {
     "data": {
      "image/png": "[encoded data removed]",
      "text/plain": [
       "<Figure size 640x480 with 1 Axes>"
      ]
     },
     "metadata": {},
     "output_type": "display_data"
    }
   ],
   "source": [
    "# フォーマットを調整する\n",
    "\n",
    "fig, ax = plt.subplots()\n",
    "wedges, texts, autotexts = plt.pie(\n",
    "    sizes, # グラフのサイズを指定\n",
    "    labels=labels, # グラフのラベルを指定\n",
    "    colors = ['#0017C1','#D9E6FF'], # グラフの色を指定\n",
    "    wedgeprops={'width': 0.5},  # ← ここでドーナツ型に\n",
    "    startangle=90, #グラフの開始角度を指定\n",
    "    counterclock=False, # グラフの回転方向を指定\n",
    "    autopct='%1.1f%%', # グラフの割合を表示する\n",
    "    pctdistance=0.8  # ← これでパーセント表示を外に寄せる\n",
    ")\n",
    "\n",
    "# 円形を維持\n",
    "plt.axis('equal') # 縦横比を1:1にする\n",
    "\n",
    "# タイトル\n",
    "plt.title('性別構成比')# タイトルを指定\n",
    "\n",
    "# %表示の色を個別に設定\n",
    "pct_colors = ['white', 'black']  # % 表示の色\n",
    "for autotext, color in zip(autotexts, pct_colors):\n",
    "    autotext.set_color(color)\n",
    "\n",
    "# 表示\n",
    "plt.show()\n"
   ]
  },
  {
   "cell_type": "code",
   "execution_count": 20,
   "id": "fec3ad0b",
   "metadata": {},
   "outputs": [],
   "source": [
    "def create_doughnut_chart(ax, title, labels, sizes):\n",
    "    wedges, texts, autotexts = ax.pie(\n",
    "        sizes,\n",
    "        labels=labels,\n",
    "        colors=['#0017C1', '#D9E6FF'],\n",
    "        wedgeprops={'width': 0.5},\n",
    "        startangle=90,\n",
    "        counterclock=False,\n",
    "        autopct='%1.1f%%',\n",
    "        pctdistance=0.8\n",
    "    )\n",
    "\n",
    "    ax.axis('equal')            # 円形にする\n",
    "    ax.set_title(title)\n",
    "\n",
    "    pct_colors = ['white', 'black']\n",
    "    for autotext, color in zip(autotexts, pct_colors):\n",
    "        autotext.set_color(color)\n"
   ]
  },
  {
   "cell_type": "markdown",
   "id": "ec8a83a1",
   "metadata": {},
   "source": [
    "## 5-3.棒グラフ "
   ]
  },
  {
   "cell_type": "code",
   "execution_count": null,
   "id": "d829d5cc",
   "metadata": {},
   "outputs": [
    {
     "data": {
      "application/vnd.microsoft.datawrangler.viewer.v0+json": {
       "columns": [
        {
         "name": "index",
         "rawType": "int64",
         "type": "integer"
        },
        {
         "name": "年代",
         "rawType": "object",
         "type": "string"
        },
        {
         "name": "件数",
         "rawType": "int64",
         "type": "integer"
        }
       ],
       "conversionMethod": "pd.DataFrame",
       "ref": "6c370b8d-b986-4e47-b160-2167ed23312f",
       "rows": [
        [
         "0",
         "20代",
         "792"
        ],
        [
         "1",
         "30代",
         "5522"
        ],
        [
         "2",
         "40代",
         "19099"
        ],
        [
         "3",
         "50代",
         "33238"
        ],
        [
         "4",
         "60代",
         "30119"
        ],
        [
         "5",
         "70代",
         "13412"
        ]
       ],
       "shape": {
        "columns": 2,
        "rows": 6
       }
      },
      "text/html": [
       "<div>\n",
       "<style scoped>\n",
       "    .dataframe tbody tr th:only-of-type {\n",
       "        vertical-align: middle;\n",
       "    }\n",
       "\n",
       "    .dataframe tbody tr th {\n",
       "        vertical-align: top;\n",
       "    }\n",
       "\n",
       "    .dataframe thead th {\n",
       "        text-align: right;\n",
       "    }\n",
       "</style>\n",
       "<table border=\"1\" class=\"dataframe\">\n",
       "  <thead>\n",
       "    <tr style=\"text-align: right;\">\n",
       "      <th></th>\n",
       "      <th>年代</th>\n",
       "      <th>件数</th>\n",
       "    </tr>\n",
       "  </thead>\n",
       "  <tbody>\n",
       "    <tr>\n",
       "      <th>0</th>\n",
       "      <td>20代</td>\n",
       "      <td>792</td>\n",
       "    </tr>\n",
       "    <tr>\n",
       "      <th>1</th>\n",
       "      <td>30代</td>\n",
       "      <td>5522</td>\n",
       "    </tr>\n",
       "    <tr>\n",
       "      <th>2</th>\n",
       "      <td>40代</td>\n",
       "      <td>19099</td>\n",
       "    </tr>\n",
       "    <tr>\n",
       "      <th>3</th>\n",
       "      <td>50代</td>\n",
       "      <td>33238</td>\n",
       "    </tr>\n",
       "    <tr>\n",
       "      <th>4</th>\n",
       "      <td>60代</td>\n",
       "      <td>30119</td>\n",
       "    </tr>\n",
       "    <tr>\n",
       "      <th>5</th>\n",
       "      <td>70代</td>\n",
       "      <td>13412</td>\n",
       "    </tr>\n",
       "  </tbody>\n",
       "</table>\n",
       "</div>"
      ],
      "text/plain": [
       "    年代     件数\n",
       "0  20代    792\n",
       "1  30代   5522\n",
       "2  40代  19099\n",
       "3  50代  33238\n",
       "4  60代  30119\n",
       "5  70代  13412"
      ]
     },
     "execution_count": 21,
     "metadata": {},
     "output_type": "execute_result"
    }
   ],
   "source": [
    "df_tmp = df.groupby(['年代'])['件数'].sum().reset_index() # 年代ごとの件数を集計する\n",
    "df_tmp"
   ]
  },
  {
   "cell_type": "code",
   "execution_count": null,
   "id": "e1b3648a",
   "metadata": {},
   "outputs": [
    {
     "name": "stdout",
     "output_type": "stream",
     "text": [
      "['20代' '30代' '40代' '50代' '60代' '70代']\n",
      "[  792  5522 19099 33238 30119 13412]\n",
      "[ 1.  5. 19. 33. 29. 13.]\n"
     ]
    }
   ],
   "source": [
    "# グラフを作成する要素を設定する\n",
    "labels = df_tmp['年代'].values # 年代の値を取得\n",
    "sizes = df_tmp['件数'].values # 件数の値を取得\n",
    "total_values = sizes.sum() # 件数の合計を取得\n",
    "sizes_percent = (sizes / total_values * 100).round() # 百分率を取得\n",
    "\n",
    "print(labels)\n",
    "print(sizes)\n",
    "print(sizes_percent)"
   ]
  },
  {
   "cell_type": "code",
   "execution_count": 23,
   "id": "5c3dc38a",
   "metadata": {},
   "outputs": [
    {
     "data": {
      "text/plain": [
       "<BarContainer object of 6 artists>"
      ]
     },
     "execution_count": 23,
     "metadata": {},
     "output_type": "execute_result"
    },
    {
     "data": {
      "image/png": "[encoded data removed]",
      "text/plain": [
       "<Figure size 640x480 with 1 Axes>"
      ]
     },
     "metadata": {},
     "output_type": "display_data"
    }
   ],
   "source": [
    "# 棒グラフを作成する\n",
    "plt.bar(\n",
    "    labels, # 横軸の値を指定\n",
    "    sizes_percent, # 縦軸の値を指定\n",
    "    color='#0017C1' # 棒グラフの色を指定\n",
    ")"
   ]
  },
  {
   "cell_type": "code",
   "execution_count": 24,
   "id": "1117240e",
   "metadata": {},
   "outputs": [
    {
     "data": {
      "image/png": "[encoded data removed]",
      "text/plain": [
       "<Figure size 640x480 with 1 Axes>"
      ]
     },
     "metadata": {},
     "output_type": "display_data"
    }
   ],
   "source": [
    "# フォーマットを調整\n",
    "\n",
    "# 棒グラフを作成する\n",
    "plt.bar(\n",
    "    labels, # 横軸の値を指定\n",
    "    sizes_percent, # 縦軸の値を指定\n",
    "    color='#0017C1' # 棒グラフの色を指定\n",
    ")\n",
    "\n",
    "plt.title('年代別構成比') # タイトルを指定\n",
    "plt.xlabel('年代') # 横軸のラベルを指定\n",
    "plt.ylabel('構成比 (%)') # 縦軸のラベルを指定\n",
    "\n",
    "plt.show() #グラフを表示"
   ]
  },
  {
   "cell_type": "code",
   "execution_count": 25,
   "id": "56baa7a9",
   "metadata": {},
   "outputs": [],
   "source": [
    "def create_bar_chart(ax, labels, sizes_percent):\n",
    "    # 棒グラフを描画\n",
    "    ax.bar(\n",
    "        labels,               # 横軸のラベル\n",
    "        sizes_percent,        # 縦軸の値\n",
    "        color='#0017C1'       # 棒の色\n",
    "    )\n",
    "\n",
    "    ax.set_title('年代別構成比')     # タイトル\n",
    "    ax.set_xlabel('年代')           # 横軸ラベル\n",
    "    ax.set_ylabel('構成比 (%)')     # 縦軸ラベル\n"
   ]
  },
  {
   "cell_type": "markdown",
   "id": "4c994daa",
   "metadata": {},
   "source": [
    "## 5-4. 折れ線グラフ"
   ]
  },
  {
   "cell_type": "code",
   "execution_count": null,
   "id": "e8bc3018",
   "metadata": {},
   "outputs": [
    {
     "data": {
      "application/vnd.microsoft.datawrangler.viewer.v0+json": {
       "columns": [
        {
         "name": "index",
         "rawType": "int64",
         "type": "integer"
        },
        {
         "name": "年",
         "rawType": "object",
         "type": "string"
        },
        {
         "name": "月",
         "rawType": "object",
         "type": "string"
        },
        {
         "name": "件数",
         "rawType": "int64",
         "type": "integer"
        }
       ],
       "conversionMethod": "pd.DataFrame",
       "ref": "7d3c5f34-cb9d-4cac-b20f-62b62b992fb7",
       "rows": [
        [
         "0",
         "2019年",
         "01月",
         "3035"
        ],
        [
         "1",
         "2019年",
         "02月",
         "2616"
        ],
        [
         "2",
         "2019年",
         "03月",
         "3001"
        ],
        [
         "3",
         "2019年",
         "04月",
         "3048"
        ],
        [
         "4",
         "2019年",
         "05月",
         "3015"
        ],
        [
         "5",
         "2019年",
         "06月",
         "2679"
        ],
        [
         "6",
         "2019年",
         "07月",
         "2806"
        ],
        [
         "7",
         "2019年",
         "08月",
         "2416"
        ],
        [
         "8",
         "2019年",
         "09月",
         "2211"
        ],
        [
         "9",
         "2019年",
         "10月",
         "2034"
        ],
        [
         "10",
         "2019年",
         "11月",
         "1592"
        ],
        [
         "11",
         "2019年",
         "12月",
         "1589"
        ],
        [
         "12",
         "2020年",
         "01月",
         "3675"
        ],
        [
         "13",
         "2020年",
         "02月",
         "3292"
        ],
        [
         "14",
         "2020年",
         "03月",
         "3575"
        ],
        [
         "15",
         "2020年",
         "04月",
         "3552"
        ],
        [
         "16",
         "2020年",
         "05月",
         "3371"
        ],
        [
         "17",
         "2020年",
         "06月",
         "3401"
        ],
        [
         "18",
         "2020年",
         "07月",
         "3138"
        ],
        [
         "19",
         "2020年",
         "08月",
         "2744"
        ],
        [
         "20",
         "2020年",
         "09月",
         "2408"
        ],
        [
         "21",
         "2020年",
         "10月",
         "2128"
        ],
        [
         "22",
         "2020年",
         "11月",
         "1708"
        ],
        [
         "23",
         "2020年",
         "12月",
         "1534"
        ],
        [
         "24",
         "2021年",
         "01月",
         "3891"
        ],
        [
         "25",
         "2021年",
         "02月",
         "3655"
        ],
        [
         "26",
         "2021年",
         "03月",
         "4321"
        ],
        [
         "27",
         "2021年",
         "04月",
         "4119"
        ],
        [
         "28",
         "2021年",
         "05月",
         "3920"
        ],
        [
         "29",
         "2021年",
         "06月",
         "3733"
        ],
        [
         "30",
         "2021年",
         "07月",
         "3278"
        ],
        [
         "31",
         "2021年",
         "08月",
         "2925"
        ],
        [
         "32",
         "2021年",
         "09月",
         "2515"
        ],
        [
         "33",
         "2021年",
         "10月",
         "2024"
        ],
        [
         "34",
         "2021年",
         "11月",
         "1767"
        ],
        [
         "35",
         "2021年",
         "12月",
         "1466"
        ]
       ],
       "shape": {
        "columns": 3,
        "rows": 36
       }
      },
      "text/html": [
       "<div>\n",
       "<style scoped>\n",
       "    .dataframe tbody tr th:only-of-type {\n",
       "        vertical-align: middle;\n",
       "    }\n",
       "\n",
       "    .dataframe tbody tr th {\n",
       "        vertical-align: top;\n",
       "    }\n",
       "\n",
       "    .dataframe thead th {\n",
       "        text-align: right;\n",
       "    }\n",
       "</style>\n",
       "<table border=\"1\" class=\"dataframe\">\n",
       "  <thead>\n",
       "    <tr style=\"text-align: right;\">\n",
       "      <th></th>\n",
       "      <th>年</th>\n",
       "      <th>月</th>\n",
       "      <th>件数</th>\n",
       "    </tr>\n",
       "  </thead>\n",
       "  <tbody>\n",
       "    <tr>\n",
       "      <th>0</th>\n",
       "      <td>2019年</td>\n",
       "      <td>01月</td>\n",
       "      <td>3035</td>\n",
       "    </tr>\n",
       "    <tr>\n",
       "      <th>1</th>\n",
       "      <td>2019年</td>\n",
       "      <td>02月</td>\n",
       "      <td>2616</td>\n",
       "    </tr>\n",
       "    <tr>\n",
       "      <th>2</th>\n",
       "      <td>2019年</td>\n",
       "      <td>03月</td>\n",
       "      <td>3001</td>\n",
       "    </tr>\n",
       "    <tr>\n",
       "      <th>3</th>\n",
       "      <td>2019年</td>\n",
       "      <td>04月</td>\n",
       "      <td>3048</td>\n",
       "    </tr>\n",
       "    <tr>\n",
       "      <th>4</th>\n",
       "      <td>2019年</td>\n",
       "      <td>05月</td>\n",
       "      <td>3015</td>\n",
       "    </tr>\n",
       "    <tr>\n",
       "      <th>5</th>\n",
       "      <td>2019年</td>\n",
       "      <td>06月</td>\n",
       "      <td>2679</td>\n",
       "    </tr>\n",
       "    <tr>\n",
       "      <th>6</th>\n",
       "      <td>2019年</td>\n",
       "      <td>07月</td>\n",
       "      <td>2806</td>\n",
       "    </tr>\n",
       "    <tr>\n",
       "      <th>7</th>\n",
       "      <td>2019年</td>\n",
       "      <td>08月</td>\n",
       "      <td>2416</td>\n",
       "    </tr>\n",
       "    <tr>\n",
       "      <th>8</th>\n",
       "      <td>2019年</td>\n",
       "      <td>09月</td>\n",
       "      <td>2211</td>\n",
       "    </tr>\n",
       "    <tr>\n",
       "      <th>9</th>\n",
       "      <td>2019年</td>\n",
       "      <td>10月</td>\n",
       "      <td>2034</td>\n",
       "    </tr>\n",
       "    <tr>\n",
       "      <th>10</th>\n",
       "      <td>2019年</td>\n",
       "      <td>11月</td>\n",
       "      <td>1592</td>\n",
       "    </tr>\n",
       "    <tr>\n",
       "      <th>11</th>\n",
       "      <td>2019年</td>\n",
       "      <td>12月</td>\n",
       "      <td>1589</td>\n",
       "    </tr>\n",
       "    <tr>\n",
       "      <th>12</th>\n",
       "      <td>2020年</td>\n",
       "      <td>01月</td>\n",
       "      <td>3675</td>\n",
       "    </tr>\n",
       "    <tr>\n",
       "      <th>13</th>\n",
       "      <td>2020年</td>\n",
       "      <td>02月</td>\n",
       "      <td>3292</td>\n",
       "    </tr>\n",
       "    <tr>\n",
       "      <th>14</th>\n",
       "      <td>2020年</td>\n",
       "      <td>03月</td>\n",
       "      <td>3575</td>\n",
       "    </tr>\n",
       "    <tr>\n",
       "      <th>15</th>\n",
       "      <td>2020年</td>\n",
       "      <td>04月</td>\n",
       "      <td>3552</td>\n",
       "    </tr>\n",
       "    <tr>\n",
       "      <th>16</th>\n",
       "      <td>2020年</td>\n",
       "      <td>05月</td>\n",
       "      <td>3371</td>\n",
       "    </tr>\n",
       "    <tr>\n",
       "      <th>17</th>\n",
       "      <td>2020年</td>\n",
       "      <td>06月</td>\n",
       "      <td>3401</td>\n",
       "    </tr>\n",
       "    <tr>\n",
       "      <th>18</th>\n",
       "      <td>2020年</td>\n",
       "      <td>07月</td>\n",
       "      <td>3138</td>\n",
       "    </tr>\n",
       "    <tr>\n",
       "      <th>19</th>\n",
       "      <td>2020年</td>\n",
       "      <td>08月</td>\n",
       "      <td>2744</td>\n",
       "    </tr>\n",
       "    <tr>\n",
       "      <th>20</th>\n",
       "      <td>2020年</td>\n",
       "      <td>09月</td>\n",
       "      <td>2408</td>\n",
       "    </tr>\n",
       "    <tr>\n",
       "      <th>21</th>\n",
       "      <td>2020年</td>\n",
       "      <td>10月</td>\n",
       "      <td>2128</td>\n",
       "    </tr>\n",
       "    <tr>\n",
       "      <th>22</th>\n",
       "      <td>2020年</td>\n",
       "      <td>11月</td>\n",
       "      <td>1708</td>\n",
       "    </tr>\n",
       "    <tr>\n",
       "      <th>23</th>\n",
       "      <td>2020年</td>\n",
       "      <td>12月</td>\n",
       "      <td>1534</td>\n",
       "    </tr>\n",
       "    <tr>\n",
       "      <th>24</th>\n",
       "      <td>2021年</td>\n",
       "      <td>01月</td>\n",
       "      <td>3891</td>\n",
       "    </tr>\n",
       "    <tr>\n",
       "      <th>25</th>\n",
       "      <td>2021年</td>\n",
       "      <td>02月</td>\n",
       "      <td>3655</td>\n",
       "    </tr>\n",
       "    <tr>\n",
       "      <th>26</th>\n",
       "      <td>2021年</td>\n",
       "      <td>03月</td>\n",
       "      <td>4321</td>\n",
       "    </tr>\n",
       "    <tr>\n",
       "      <th>27</th>\n",
       "      <td>2021年</td>\n",
       "      <td>04月</td>\n",
       "      <td>4119</td>\n",
       "    </tr>\n",
       "    <tr>\n",
       "      <th>28</th>\n",
       "      <td>2021年</td>\n",
       "      <td>05月</td>\n",
       "      <td>3920</td>\n",
       "    </tr>\n",
       "    <tr>\n",
       "      <th>29</th>\n",
       "      <td>2021年</td>\n",
       "      <td>06月</td>\n",
       "      <td>3733</td>\n",
       "    </tr>\n",
       "    <tr>\n",
       "      <th>30</th>\n",
       "      <td>2021年</td>\n",
       "      <td>07月</td>\n",
       "      <td>3278</td>\n",
       "    </tr>\n",
       "    <tr>\n",
       "      <th>31</th>\n",
       "      <td>2021年</td>\n",
       "      <td>08月</td>\n",
       "      <td>2925</td>\n",
       "    </tr>\n",
       "    <tr>\n",
       "      <th>32</th>\n",
       "      <td>2021年</td>\n",
       "      <td>09月</td>\n",
       "      <td>2515</td>\n",
       "    </tr>\n",
       "    <tr>\n",
       "      <th>33</th>\n",
       "      <td>2021年</td>\n",
       "      <td>10月</td>\n",
       "      <td>2024</td>\n",
       "    </tr>\n",
       "    <tr>\n",
       "      <th>34</th>\n",
       "      <td>2021年</td>\n",
       "      <td>11月</td>\n",
       "      <td>1767</td>\n",
       "    </tr>\n",
       "    <tr>\n",
       "      <th>35</th>\n",
       "      <td>2021年</td>\n",
       "      <td>12月</td>\n",
       "      <td>1466</td>\n",
       "    </tr>\n",
       "  </tbody>\n",
       "</table>\n",
       "</div>"
      ],
      "text/plain": [
       "        年    月    件数\n",
       "0   2019年  01月  3035\n",
       "1   2019年  02月  2616\n",
       "2   2019年  03月  3001\n",
       "3   2019年  04月  3048\n",
       "4   2019年  05月  3015\n",
       "5   2019年  06月  2679\n",
       "6   2019年  07月  2806\n",
       "7   2019年  08月  2416\n",
       "8   2019年  09月  2211\n",
       "9   2019年  10月  2034\n",
       "10  2019年  11月  1592\n",
       "11  2019年  12月  1589\n",
       "12  2020年  01月  3675\n",
       "13  2020年  02月  3292\n",
       "14  2020年  03月  3575\n",
       "15  2020年  04月  3552\n",
       "16  2020年  05月  3371\n",
       "17  2020年  06月  3401\n",
       "18  2020年  07月  3138\n",
       "19  2020年  08月  2744\n",
       "20  2020年  09月  2408\n",
       "21  2020年  10月  2128\n",
       "22  2020年  11月  1708\n",
       "23  2020年  12月  1534\n",
       "24  2021年  01月  3891\n",
       "25  2021年  02月  3655\n",
       "26  2021年  03月  4321\n",
       "27  2021年  04月  4119\n",
       "28  2021年  05月  3920\n",
       "29  2021年  06月  3733\n",
       "30  2021年  07月  3278\n",
       "31  2021年  08月  2925\n",
       "32  2021年  09月  2515\n",
       "33  2021年  10月  2024\n",
       "34  2021年  11月  1767\n",
       "35  2021年  12月  1466"
      ]
     },
     "execution_count": 26,
     "metadata": {},
     "output_type": "execute_result"
    }
   ],
   "source": [
    "df_tmp = df.groupby(['年', '月'])['件数'].sum().reset_index() # 年月ごとの件数を集計する\n",
    "df_tmp"
   ]
  },
  {
   "cell_type": "code",
   "execution_count": null,
   "id": "2ac94174",
   "metadata": {},
   "outputs": [
    {
     "name": "stdout",
     "output_type": "stream",
     "text": [
      "~~~~~~~~ 2019年のデータ ~~~~~~~~\n"
     ]
    },
    {
     "data": {
      "application/vnd.microsoft.datawrangler.viewer.v0+json": {
       "columns": [
        {
         "name": "index",
         "rawType": "int64",
         "type": "integer"
        },
        {
         "name": "年",
         "rawType": "object",
         "type": "string"
        },
        {
         "name": "月",
         "rawType": "object",
         "type": "string"
        },
        {
         "name": "件数",
         "rawType": "int64",
         "type": "integer"
        }
       ],
       "conversionMethod": "pd.DataFrame",
       "ref": "7fc5149d-fc76-4e06-8375-ef1433c991b8",
       "rows": [
        [
         "0",
         "2019年",
         "01月",
         "3035"
        ],
        [
         "1",
         "2019年",
         "02月",
         "2616"
        ],
        [
         "2",
         "2019年",
         "03月",
         "3001"
        ],
        [
         "3",
         "2019年",
         "04月",
         "3048"
        ],
        [
         "4",
         "2019年",
         "05月",
         "3015"
        ],
        [
         "5",
         "2019年",
         "06月",
         "2679"
        ],
        [
         "6",
         "2019年",
         "07月",
         "2806"
        ],
        [
         "7",
         "2019年",
         "08月",
         "2416"
        ],
        [
         "8",
         "2019年",
         "09月",
         "2211"
        ],
        [
         "9",
         "2019年",
         "10月",
         "2034"
        ],
        [
         "10",
         "2019年",
         "11月",
         "1592"
        ],
        [
         "11",
         "2019年",
         "12月",
         "1589"
        ]
       ],
       "shape": {
        "columns": 3,
        "rows": 12
       }
      },
      "text/html": [
       "<div>\n",
       "<style scoped>\n",
       "    .dataframe tbody tr th:only-of-type {\n",
       "        vertical-align: middle;\n",
       "    }\n",
       "\n",
       "    .dataframe tbody tr th {\n",
       "        vertical-align: top;\n",
       "    }\n",
       "\n",
       "    .dataframe thead th {\n",
       "        text-align: right;\n",
       "    }\n",
       "</style>\n",
       "<table border=\"1\" class=\"dataframe\">\n",
       "  <thead>\n",
       "    <tr style=\"text-align: right;\">\n",
       "      <th></th>\n",
       "      <th>年</th>\n",
       "      <th>月</th>\n",
       "      <th>件数</th>\n",
       "    </tr>\n",
       "  </thead>\n",
       "  <tbody>\n",
       "    <tr>\n",
       "      <th>0</th>\n",
       "      <td>2019年</td>\n",
       "      <td>01月</td>\n",
       "      <td>3035</td>\n",
       "    </tr>\n",
       "    <tr>\n",
       "      <th>1</th>\n",
       "      <td>2019年</td>\n",
       "      <td>02月</td>\n",
       "      <td>2616</td>\n",
       "    </tr>\n",
       "    <tr>\n",
       "      <th>2</th>\n",
       "      <td>2019年</td>\n",
       "      <td>03月</td>\n",
       "      <td>3001</td>\n",
       "    </tr>\n",
       "    <tr>\n",
       "      <th>3</th>\n",
       "      <td>2019年</td>\n",
       "      <td>04月</td>\n",
       "      <td>3048</td>\n",
       "    </tr>\n",
       "    <tr>\n",
       "      <th>4</th>\n",
       "      <td>2019年</td>\n",
       "      <td>05月</td>\n",
       "      <td>3015</td>\n",
       "    </tr>\n",
       "    <tr>\n",
       "      <th>5</th>\n",
       "      <td>2019年</td>\n",
       "      <td>06月</td>\n",
       "      <td>2679</td>\n",
       "    </tr>\n",
       "    <tr>\n",
       "      <th>6</th>\n",
       "      <td>2019年</td>\n",
       "      <td>07月</td>\n",
       "      <td>2806</td>\n",
       "    </tr>\n",
       "    <tr>\n",
       "      <th>7</th>\n",
       "      <td>2019年</td>\n",
       "      <td>08月</td>\n",
       "      <td>2416</td>\n",
       "    </tr>\n",
       "    <tr>\n",
       "      <th>8</th>\n",
       "      <td>2019年</td>\n",
       "      <td>09月</td>\n",
       "      <td>2211</td>\n",
       "    </tr>\n",
       "    <tr>\n",
       "      <th>9</th>\n",
       "      <td>2019年</td>\n",
       "      <td>10月</td>\n",
       "      <td>2034</td>\n",
       "    </tr>\n",
       "    <tr>\n",
       "      <th>10</th>\n",
       "      <td>2019年</td>\n",
       "      <td>11月</td>\n",
       "      <td>1592</td>\n",
       "    </tr>\n",
       "    <tr>\n",
       "      <th>11</th>\n",
       "      <td>2019年</td>\n",
       "      <td>12月</td>\n",
       "      <td>1589</td>\n",
       "    </tr>\n",
       "  </tbody>\n",
       "</table>\n",
       "</div>"
      ],
      "text/plain": [
       "        年    月    件数\n",
       "0   2019年  01月  3035\n",
       "1   2019年  02月  2616\n",
       "2   2019年  03月  3001\n",
       "3   2019年  04月  3048\n",
       "4   2019年  05月  3015\n",
       "5   2019年  06月  2679\n",
       "6   2019年  07月  2806\n",
       "7   2019年  08月  2416\n",
       "8   2019年  09月  2211\n",
       "9   2019年  10月  2034\n",
       "10  2019年  11月  1592\n",
       "11  2019年  12月  1589"
      ]
     },
     "metadata": {},
     "output_type": "display_data"
    }
   ],
   "source": [
    "# 年月ごとの件数を集計したデータをフィルタリングする\n",
    "df_2019 = df_tmp[df_tmp['年'] == '2019年'] \n",
    "df_2020 = df_tmp[df_tmp['年'] == '2020年']\n",
    "df_2021 = df_tmp[df_tmp['年'] == '2021年']\n",
    "\n",
    "print('~~~~~~~~ 2019年のデータ ~~~~~~~~')\n",
    "display(df_2019)"
   ]
  },
  {
   "cell_type": "code",
   "execution_count": null,
   "id": "332ff2c1",
   "metadata": {},
   "outputs": [
    {
     "name": "stdout",
     "output_type": "stream",
     "text": [
      "~~~~~~~~ 月の値 ~~~~~~~~\n",
      "['01月' '02月' '03月' '04月' '05月' '06月' '07月' '08月' '09月' '10月' '11月' '12月']\n",
      "~~~~~~~~ 件数の値 ~~~~~~~~\n",
      "-- 2019年の件数 --\n",
      "[3035 2616 3001 3048 3015 2679 2806 2416 2211 2034 1592 1589]\n",
      "-- 2020年の件数 --\n",
      "[3675 3292 3575 3552 3371 3401 3138 2744 2408 2128 1708 1534]\n",
      "-- 2021年の件数 --\n",
      "[3891 3655 4321 4119 3920 3733 3278 2925 2515 2024 1767 1466]\n"
     ]
    }
   ],
   "source": [
    "# # グラフを作成する要素を設定する\n",
    "\n",
    "\n",
    "print('~~~~~~~~ 月の値 ~~~~~~~~')\n",
    "months = df_2019['月'].values  # 月の値を取得(月は共通なので、2019年の月を取得)\n",
    "print(months)\n",
    "\n",
    "\n",
    "# 件数の値を取得\n",
    "sizes_2019 = df_2019['件数'].values\n",
    "sizes_2020 = df_2020['件数'].values\n",
    "sizes_2021 = df_2021['件数'].values\n",
    "\n",
    "print('~~~~~~~~ 件数の値 ~~~~~~~~')\n",
    "print('-- 2019年の件数 --') \n",
    "print(sizes_2019)\n",
    "print('-- 2020年の件数 --')\n",
    "print(sizes_2020)\n",
    "print('-- 2021年の件数 --')\n",
    "print(sizes_2021)\n"
   ]
  },
  {
   "cell_type": "code",
   "execution_count": 29,
   "id": "d5fd8a8a",
   "metadata": {},
   "outputs": [
    {
     "data": {
      "image/png": "[encoded data removed]",
      "text/plain": [
       "<Figure size 1000x400 with 1 Axes>"
      ]
     },
     "metadata": {},
     "output_type": "display_data"
    }
   ],
   "source": [
    "# グラフを作成する\n",
    "\n",
    "plt.figure(figsize=(10, 4)) # グラフのサイズを指定\n",
    "\n",
    "# 2021年のデータをプロットする\n",
    "plt.plot(\n",
    "    months, # 横軸の値を指定\n",
    "    sizes_2021, # 縦軸の値を指定\n",
    ")\n",
    "\n",
    "# 2020年のデータをプロットする\n",
    "plt.plot(\n",
    "    months, # 横軸の値を指定\n",
    "    sizes_2020, # 縦軸の値を指定\n",
    ")\n",
    "\n",
    "# 2019年のデータをプロットする\n",
    "plt.plot(\n",
    "    months, # 横軸の値を指定\n",
    "    sizes_2019, # 縦軸の値を指定\n",
    ")\n",
    "\n",
    "\n",
    "plt.show() #グラフを表示"
   ]
  },
  {
   "cell_type": "code",
   "execution_count": null,
   "id": "f714d845",
   "metadata": {},
   "outputs": [
    {
     "data": {
      "image/png": "[encoded data removed]",
      "text/plain": [
       "<Figure size 1000x400 with 1 Axes>"
      ]
     },
     "metadata": {},
     "output_type": "display_data"
    }
   ],
   "source": [
    "\n",
    "plt.figure(figsize=(10, 4))  # グラフのサイズを指定\n",
    "\n",
    "# 2021年のデータ\n",
    "plt.plot(\n",
    "    months,\n",
    "    sizes_2021,\n",
    "    color='#0017C1',\n",
    "    marker='d',\n",
    "    label='2021年'\n",
    ")\n",
    "\n",
    "# 2020年のデータ\n",
    "plt.plot(\n",
    "    months,\n",
    "    sizes_2020,\n",
    "    color='#4979F5',\n",
    "    marker='d',\n",
    "    label='2020年'\n",
    ")\n",
    "\n",
    "# 2019年のデータ\n",
    "plt.plot(\n",
    "    months,\n",
    "    sizes_2019,\n",
    "    color='#9DB7F9',\n",
    "    marker='d',  # ひし形マーカー\n",
    "    label='2019年'\n",
    ")\n",
    "\n",
    "# タイトル・軸ラベル\n",
    "plt.title('月別件数推移')\n",
    "plt.xlabel('月')\n",
    "plt.ylabel('件数')\n",
    "\n",
    "# X軸のラベル回転\n",
    "plt.xticks(rotation=45)\n",
    "\n",
    "# Y軸を0から開始\n",
    "plt.ylim(bottom=0)\n",
    "\n",
    "# 凡例\n",
    "plt.legend(loc='upper right')\n",
    "\n",
    "# 表示\n",
    "plt.tight_layout()\n",
    "plt.show()\n"
   ]
  },
  {
   "cell_type": "code",
   "execution_count": 31,
   "id": "8d39def1",
   "metadata": {},
   "outputs": [],
   "source": [
    "def create_line_chart(ax, months, sizes_2019, sizes_2020, sizes_2021):\n",
    "    # 2021年のデータ\n",
    "    ax.plot(\n",
    "        months, sizes_2021,\n",
    "        color='#0017C1', marker='d', label='2021年'\n",
    "    )\n",
    "\n",
    "    # 2020年のデータ\n",
    "    ax.plot(\n",
    "        months, sizes_2020,\n",
    "        color='#4979F5', marker='d', label='2020年'\n",
    "    )\n",
    "\n",
    "    # 2019年のデータ\n",
    "    ax.plot(\n",
    "        months, sizes_2019,\n",
    "        color='#9DB7F9', marker='d', label='2019年'\n",
    "    )\n",
    "\n",
    "    # タイトル・軸ラベル\n",
    "    ax.set_title('月別件数推移')\n",
    "    ax.set_xlabel('月')\n",
    "    ax.set_ylabel('件数')\n",
    "\n",
    "    # X軸ラベル回転\n",
    "    ax.set_xticks(range(len(months)))\n",
    "    ax.set_xticklabels(months, rotation=45)\n",
    "\n",
    "    # Y軸を0から開始\n",
    "    ax.set_ylim(bottom=0)\n",
    "\n",
    "    # 凡例\n",
    "    ax.legend(loc='upper right')\n"
   ]
  },
  {
   "cell_type": "markdown",
   "id": "bafc0c41",
   "metadata": {},
   "source": [
    "# 6. 作成したグラフを並べる"
   ]
  },
  {
   "cell_type": "code",
   "execution_count": 114,
   "id": "91e17bf9",
   "metadata": {},
   "outputs": [],
   "source": [
    "# フィルタリングする条件を指定\n",
    "\n",
    "sex = [\n",
    "  \"female\",\n",
    "  \"male\"\n",
    "  ]  # 性別を指定\n",
    "\n",
    "product = [\n",
    "  \"prd_1\",\n",
    "  \"prd_2\"\n",
    "  ] # 商品を指定\n",
    "\n",
    "age = [\n",
    "#  \"20代\",\n",
    "  \"30代\",\n",
    "  \"40代\",\n",
    "  \"50代\",\n",
    "  \"60代\",\n",
    " # \"70代\",\n",
    "  ] # 年代を指定\n",
    "\n",
    "year = [\n",
    "  \"2019年\",\n",
    "  \"2020年\",\n",
    "  \"2021年\"\n",
    "  ] # 年を指定\n",
    "\n"
   ]
  },
  {
   "cell_type": "code",
   "execution_count": 115,
   "id": "bc9d27dc",
   "metadata": {},
   "outputs": [
    {
     "data": {
      "image/png": "[encoded data removed]",
      "text/plain": [
       "<Figure size 1500x1000 with 6 Axes>"
      ]
     },
     "metadata": {},
     "output_type": "display_data"
    }
   ],
   "source": [
    "import matplotlib.gridspec as gridspec\n",
    "\n",
    "df_filtered = df.copy() # フィルタリング前のデータをコピーする\n",
    "\n",
    "# フィルタリング\n",
    "df_filtered = df_filtered[df_filtered['性別'].isin(sex)] # 性別をフィルタリングする\n",
    "df_filtered = df_filtered[df_filtered['商品'].isin(product)] # 商品をフィルタリングする\n",
    "df_filtered = df_filtered[df_filtered['年代'].isin(age)] # 年代をフィルタリングする\n",
    "df_filtered = df_filtered[df_filtered['年'].isin(year)] # 年をフィルタリングする\n",
    "\n",
    "fig = plt.figure(figsize=(15, 10))\n",
    "gs = gridspec.GridSpec(5, 3, figure=fig)\n",
    "\n",
    "\n",
    "#~~~~~~~~~~~ カード ~~~~~~~~~~~~~\n",
    "value_card = df_filtered['件数'].sum() \n",
    "ax_card = fig.add_subplot(gs[0, 0:2])\n",
    "create_card(ax_card, value_card)\n",
    "\n",
    "\n",
    "#~~~~~ フィルタリングした条件を表示する ~~~~~~\n",
    "ax_info = fig.add_subplot(gs[0, 2])\n",
    "ax_info.axis('off')  # 枠や軸を非表示にする\n",
    "\n",
    "# 表示用のフィルタ内容を文字列に変換\n",
    "text = f\"性別: {', '.join(sex)}\\n商品: {', '.join(product)}\\n年代: {', '.join(map(str,age))}\\n年: {', '.join(map(str, year))}\"\n",
    "\n",
    "# 中央に表示\n",
    "ax_info.text(0, 0.5, text, ha='left', va='center', fontsize=12)\n",
    "\n",
    "\n",
    "# ~~~~~ ドーナツグラフ 性別構成比 ~~~~~~\n",
    "ax_sex = fig.add_subplot(gs[1:3, 0])\n",
    "create_doughnut_chart(ax_sex, '性別構成比', df_filtered.groupby(['性別'])['件数'].sum().reset_index()['性別'].values, df_filtered.groupby(['性別'])['件数'].sum().reset_index()['件数'].values)\n",
    "\n",
    "#~~~~~ ドーナツグラフ 商品別構成比 ~~~~~\n",
    "ax_product = fig.add_subplot(gs[1:3, 1])\n",
    "create_doughnut_chart(ax_product, '商品別構成比', df_filtered.groupby(['商品'])['件数'].sum().reset_index()['商品'].values, df_filtered.groupby(['商品'])['件数'].sum().reset_index()['件数'].values)\n",
    "\n",
    "#~~~~~~ 棒グラフ 年代別構成比 ~~~~~~\n",
    "ax_age = fig.add_subplot(gs[1:3, 2])\n",
    "df_age = df_filtered.groupby(['年代'])['件数'].sum().reset_index()\n",
    "labels_age = df_age['年代'].values\n",
    "sizes_age = df_age['件数'].values\n",
    "sizes_age_percent = (sizes_age / sizes_age.sum() * 100).round()\n",
    "create_bar_chart(ax_age, labels_age, sizes_age_percent)\n",
    "\n",
    "#~~~~~  折れ線グラフ 月別件数推移 ~~~~~~\n",
    "ax_line = fig.add_subplot(gs[3:5, 0:3])  \n",
    "create_line_chart(ax_line, months, sizes_2019, sizes_2020, sizes_2021)\n",
    "\n",
    "\n",
    "\n",
    "plt.tight_layout()\n",
    "plt.show()\n"
   ]
  },
  {
   "cell_type": "code",
   "execution_count": null,
   "id": "c2b526af",
   "metadata": {},
   "outputs": [],
   "source": []
  }
 ],
 "metadata": {
  "kernelspec": {
   "display_name": ".00_env",
   "language": "python",
   "name": "python3"
  },
  "language_info": {
   "codemirror_mode": {
    "name": "ipython",
    "version": 3
   },
   "file_extension": ".py",
   "mimetype": "text/x-python",
   "name": "python",
   "nbconvert_exporter": "python",
   "pygments_lexer": "ipython3",
   "version": "3.12.3"
  }
 },
 "nbformat": 4,
 "nbformat_minor": 5
}
