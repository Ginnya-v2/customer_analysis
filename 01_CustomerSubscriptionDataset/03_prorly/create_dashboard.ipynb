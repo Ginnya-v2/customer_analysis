{
 "cells": [
  {
   "cell_type": "markdown",
   "id": "9311b655",
   "metadata": {},
   "source": [
    "# 1. ライブラリのインポート"
   ]
  },
  {
   "cell_type": "code",
   "execution_count": 26,
   "id": "96bcae37",
   "metadata": {},
   "outputs": [],
   "source": [
    "# 初めて実行するときは以下をコメントアウトして実行してください\n",
    "# !pip install streamlit\n",
    "\n",
    "import pandas as pd\n",
    "import matplotlib.pyplot as plt\n",
    "plt.rcParams['font.family'] = 'Hiragino Sans' #日本語フォントを指定（Mac）\n",
    "# plt.rcParams['font.family'] = 'MS Gothic' #日本語フォントを指定（Windows）\n",
    "\n",
    "import streamlit as st\n"
   ]
  },
  {
   "cell_type": "markdown",
   "id": "66396577",
   "metadata": {},
   "source": [
    "# 2. データのインポート"
   ]
  },
  {
   "cell_type": "code",
   "execution_count": 9,
   "id": "24bb255d",
   "metadata": {},
   "outputs": [],
   "source": [
    "df = pd.read_csv('./data.csv')"
   ]
  },
  {
   "cell_type": "markdown",
   "id": "11b82683",
   "metadata": {},
   "source": [
    "# 3. データの確認"
   ]
  },
  {
   "cell_type": "code",
   "execution_count": 10,
   "id": "27a9d91c",
   "metadata": {},
   "outputs": [
    {
     "data": {
      "application/vnd.microsoft.datawrangler.viewer.v0+json": {
       "columns": [
        {
         "name": "index",
         "rawType": "object",
         "type": "string"
        },
        {
         "name": "0",
         "rawType": "object",
         "type": "unknown"
        },
        {
         "name": "1",
         "rawType": "object",
         "type": "unknown"
        },
        {
         "name": "2",
         "rawType": "object",
         "type": "unknown"
        },
        {
         "name": "3",
         "rawType": "object",
         "type": "unknown"
        },
        {
         "name": "4",
         "rawType": "object",
         "type": "unknown"
        }
       ],
       "conversionMethod": "pd.DataFrame",
       "ref": "c6882a1e-9a78-4443-868e-d937e074e315",
       "rows": [
        [
         "ケースID",
         "CC52120",
         "CC52122",
         "CC52124",
         "CC52126",
         "CC52127"
        ],
        [
         "日時",
         "2019-01-01 07:56:58",
         "2019-01-01 08:05:10",
         "2019-01-01 08:44:32",
         "2019-01-01 08:54:33",
         "2019-01-01 08:56:58"
        ],
        [
         "顧客ID",
         "C29793",
         "C29794",
         "C29795",
         "C29796",
         "C29797"
        ],
        [
         "年齢",
         "62",
         "61",
         "58",
         "58",
         "72"
        ],
        [
         "性別",
         "female",
         "male",
         "male",
         "male",
         "female"
        ],
        [
         "商品",
         "prd_1",
         "prd_1",
         "prd_1",
         "prd_1",
         "prd_1"
        ],
        [
         "契約日時",
         "2019-01-01 08:00:46",
         "2019-01-01 08:09:32",
         "2019-01-01 08:45:42",
         "2019-01-01 08:58:46",
         "2019-01-01 08:59:29"
        ],
        [
         "キャンセル日時",
         null,
         null,
         null,
         null,
         null
        ],
        [
         "商品名",
         "annual_subscription",
         "annual_subscription",
         "annual_subscription",
         "annual_subscription",
         "annual_subscription"
        ],
        [
         "価格",
         "1200",
         "1200",
         "1200",
         "1200",
         "1200"
        ],
        [
         "更新期間",
         "12",
         "12",
         "12",
         "12",
         "12"
        ]
       ],
       "shape": {
        "columns": 5,
        "rows": 11
       }
      },
      "text/html": [
       "<div>\n",
       "<style scoped>\n",
       "    .dataframe tbody tr th:only-of-type {\n",
       "        vertical-align: middle;\n",
       "    }\n",
       "\n",
       "    .dataframe tbody tr th {\n",
       "        vertical-align: top;\n",
       "    }\n",
       "\n",
       "    .dataframe thead th {\n",
       "        text-align: right;\n",
       "    }\n",
       "</style>\n",
       "<table border=\"1\" class=\"dataframe\">\n",
       "  <thead>\n",
       "    <tr style=\"text-align: right;\">\n",
       "      <th></th>\n",
       "      <th>0</th>\n",
       "      <th>1</th>\n",
       "      <th>2</th>\n",
       "      <th>3</th>\n",
       "      <th>4</th>\n",
       "    </tr>\n",
       "  </thead>\n",
       "  <tbody>\n",
       "    <tr>\n",
       "      <th>ケースID</th>\n",
       "      <td>CC52120</td>\n",
       "      <td>CC52122</td>\n",
       "      <td>CC52124</td>\n",
       "      <td>CC52126</td>\n",
       "      <td>CC52127</td>\n",
       "    </tr>\n",
       "    <tr>\n",
       "      <th>日時</th>\n",
       "      <td>2019-01-01 07:56:58</td>\n",
       "      <td>2019-01-01 08:05:10</td>\n",
       "      <td>2019-01-01 08:44:32</td>\n",
       "      <td>2019-01-01 08:54:33</td>\n",
       "      <td>2019-01-01 08:56:58</td>\n",
       "    </tr>\n",
       "    <tr>\n",
       "      <th>顧客ID</th>\n",
       "      <td>C29793</td>\n",
       "      <td>C29794</td>\n",
       "      <td>C29795</td>\n",
       "      <td>C29796</td>\n",
       "      <td>C29797</td>\n",
       "    </tr>\n",
       "    <tr>\n",
       "      <th>年齢</th>\n",
       "      <td>62</td>\n",
       "      <td>61</td>\n",
       "      <td>58</td>\n",
       "      <td>58</td>\n",
       "      <td>72</td>\n",
       "    </tr>\n",
       "    <tr>\n",
       "      <th>性別</th>\n",
       "      <td>female</td>\n",
       "      <td>male</td>\n",
       "      <td>male</td>\n",
       "      <td>male</td>\n",
       "      <td>female</td>\n",
       "    </tr>\n",
       "    <tr>\n",
       "      <th>商品</th>\n",
       "      <td>prd_1</td>\n",
       "      <td>prd_1</td>\n",
       "      <td>prd_1</td>\n",
       "      <td>prd_1</td>\n",
       "      <td>prd_1</td>\n",
       "    </tr>\n",
       "    <tr>\n",
       "      <th>契約日時</th>\n",
       "      <td>2019-01-01 08:00:46</td>\n",
       "      <td>2019-01-01 08:09:32</td>\n",
       "      <td>2019-01-01 08:45:42</td>\n",
       "      <td>2019-01-01 08:58:46</td>\n",
       "      <td>2019-01-01 08:59:29</td>\n",
       "    </tr>\n",
       "    <tr>\n",
       "      <th>キャンセル日時</th>\n",
       "      <td>NaN</td>\n",
       "      <td>NaN</td>\n",
       "      <td>NaN</td>\n",
       "      <td>NaN</td>\n",
       "      <td>NaN</td>\n",
       "    </tr>\n",
       "    <tr>\n",
       "      <th>商品名</th>\n",
       "      <td>annual_subscription</td>\n",
       "      <td>annual_subscription</td>\n",
       "      <td>annual_subscription</td>\n",
       "      <td>annual_subscription</td>\n",
       "      <td>annual_subscription</td>\n",
       "    </tr>\n",
       "    <tr>\n",
       "      <th>価格</th>\n",
       "      <td>1200</td>\n",
       "      <td>1200</td>\n",
       "      <td>1200</td>\n",
       "      <td>1200</td>\n",
       "      <td>1200</td>\n",
       "    </tr>\n",
       "    <tr>\n",
       "      <th>更新期間</th>\n",
       "      <td>12</td>\n",
       "      <td>12</td>\n",
       "      <td>12</td>\n",
       "      <td>12</td>\n",
       "      <td>12</td>\n",
       "    </tr>\n",
       "  </tbody>\n",
       "</table>\n",
       "</div>"
      ],
      "text/plain": [
       "                           0                    1                    2  \\\n",
       "ケースID                CC52120              CC52122              CC52124   \n",
       "日時       2019-01-01 07:56:58  2019-01-01 08:05:10  2019-01-01 08:44:32   \n",
       "顧客ID                  C29793               C29794               C29795   \n",
       "年齢                        62                   61                   58   \n",
       "性別                    female                 male                 male   \n",
       "商品                     prd_1                prd_1                prd_1   \n",
       "契約日時     2019-01-01 08:00:46  2019-01-01 08:09:32  2019-01-01 08:45:42   \n",
       "キャンセル日時                  NaN                  NaN                  NaN   \n",
       "商品名      annual_subscription  annual_subscription  annual_subscription   \n",
       "価格                      1200                 1200                 1200   \n",
       "更新期間                      12                   12                   12   \n",
       "\n",
       "                           3                    4  \n",
       "ケースID                CC52126              CC52127  \n",
       "日時       2019-01-01 08:54:33  2019-01-01 08:56:58  \n",
       "顧客ID                  C29796               C29797  \n",
       "年齢                        58                   72  \n",
       "性別                      male               female  \n",
       "商品                     prd_1                prd_1  \n",
       "契約日時     2019-01-01 08:58:46  2019-01-01 08:59:29  \n",
       "キャンセル日時                  NaN                  NaN  \n",
       "商品名      annual_subscription  annual_subscription  \n",
       "価格                      1200                 1200  \n",
       "更新期間                      12                   12  "
      ]
     },
     "execution_count": 10,
     "metadata": {},
     "output_type": "execute_result"
    }
   ],
   "source": [
    "df.head().T # データの最初の5行を表示"
   ]
  },
  {
   "cell_type": "markdown",
   "id": "44a10668",
   "metadata": {},
   "source": [
    "# 4. データの前処理"
   ]
  },
  {
   "cell_type": "code",
   "execution_count": 11,
   "id": "1eb4ed54",
   "metadata": {},
   "outputs": [],
   "source": [
    "# # 年代列を追加\n",
    "df['年代'] = df['年齢'] // 10 # 10で割って、小数点以下を切り捨てる（10の位の値を取得）\n",
    "df['年代'] = df['年代'] * 10 # 10を掛ける\n",
    "df['年代'] = df['年代'].astype(str) # 文字列に変換する\n",
    "df['年代'] = df['年代'] + '代' # 代という文字を付け足す\n",
    "\n",
    "# # 年、月の列を追加\n",
    "# 年\n",
    "df['年'] = None # 年の列を作成する（一時的にカラにしておく）\n",
    "df['年'] = df['日時'].str[:4] # .strで指定列の文字の値を取得する ⇨ [:4]で左から4文字目までの値を取得する\n",
    "df['年'] = df['年'] + '年' # 年という文字を付け足す\n",
    "\n",
    "# 月\n",
    "df['月'] = None # 月の列を作成する（一時的にカラにしておく）\n",
    "df['月'] = df['日時'].str[5:7] # .strで指定列の文字の値を取得する ⇨ [5:7]で左から5~6文字目までの値を取得する(「まで」は指定したい数の一つ上の数字を記載する)\n",
    "df['月'] = df['月'] + '月' # 月という文字を付け足す\n",
    "\n",
    "# # レコード集計用の列を追加\n",
    "df['件数'] = 1"
   ]
  },
  {
   "cell_type": "markdown",
   "id": "71a44c52",
   "metadata": {},
   "source": [
    "# 5. グラフを作成"
   ]
  },
  {
   "cell_type": "code",
   "execution_count": 33,
   "id": "d7055dd9",
   "metadata": {},
   "outputs": [
    {
     "name": "stderr",
     "output_type": "stream",
     "text": [
      "2025-05-12 06:13:55.162 WARNING streamlit.runtime.scriptrunner_utils.script_run_context: Thread 'MainThread': missing ScriptRunContext! This warning can be ignored when running in bare mode.\n",
      "2025-05-12 06:13:55.236 WARNING streamlit.runtime.scriptrunner_utils.script_run_context: Thread 'MainThread': missing ScriptRunContext! This warning can be ignored when running in bare mode.\n",
      "2025-05-12 06:13:55.331 \n",
      "  \u001b[33m\u001b[1mWarning:\u001b[0m to view this Streamlit app on a browser, run it with the following\n",
      "  command:\n",
      "\n",
      "    streamlit run /Users/sawayanagidaisuke/Desktop/Daisuke/2nd_work/customer_analysis/.00_venv/lib/python3.11/site-packages/ipykernel_launcher.py [ARGUMENTS]\n",
      "2025-05-12 06:13:55.332 Thread 'MainThread': missing ScriptRunContext! This warning can be ignored when running in bare mode.\n"
     ]
    },
    {
     "data": {
      "text/plain": [
       "DeltaGenerator()"
      ]
     },
     "execution_count": 33,
     "metadata": {},
     "output_type": "execute_result"
    }
   ],
   "source": [
    "import matplotlib.pyplot as plt\n",
    "import streamlit as st\n",
    "\n",
    "def draw_card(df):\n",
    "    title = 'カスタマサポート対応件数'\n",
    "    value = df['件数'].sum()\n",
    "\n",
    "    fig = plt.figure(figsize=(4, 2))  # 図の作成\n",
    "    fig.patch.set_facecolor('#0017C1')  # 背景色を設定\n",
    "    plt.axis('off')  # 軸を非表示\n",
    "\n",
    "    # タイトルテキスト\n",
    "    plt.text(\n",
    "        0.5, 0.8, title,\n",
    "        ha='center',\n",
    "        fontsize=14,\n",
    "        color='white'\n",
    "    )\n",
    "\n",
    "    # 数値テキスト\n",
    "    plt.text(\n",
    "        0.5, 0.5, f\"{value:,}\",\n",
    "        ha='center',\n",
    "        va='center',\n",
    "        fontsize=28,\n",
    "        color='white'\n",
    "    )\n",
    "\n",
    "    return fig\n",
    "\n",
    "# 実行部分（Streamlit側）\n",
    "fig = draw_card(df)\n",
    "st.pyplot(fig)\n"
   ]
  },
  {
   "cell_type": "code",
   "execution_count": 34,
   "id": "56584220",
   "metadata": {},
   "outputs": [
    {
     "data": {
      "image/png": "[encoded data removed]",
      "text/plain": [
       "<Figure size 400x200 with 1 Axes>"
      ]
     },
     "metadata": {},
     "output_type": "display_data"
    },
    {
     "data": {
      "image/png": "[encoded data removed]",
      "text/plain": [
       "<Figure size 400x200 with 1 Axes>"
      ]
     },
     "metadata": {},
     "output_type": "display_data"
    }
   ],
   "source": [
    "import matplotlib.pyplot as plt\n",
    "\n",
    "def draw_card(df):\n",
    "    title = 'カスタマサポート対応件数'\n",
    "    value = df['件数'].sum()\n",
    "\n",
    "    fig = plt.figure(figsize=(4, 2))\n",
    "    fig.patch.set_facecolor('#0017C1')\n",
    "    plt.axis('off')\n",
    "\n",
    "    plt.text(\n",
    "        0.5, 0.8, title,\n",
    "        ha='center',\n",
    "        fontsize=14,\n",
    "        color='white'\n",
    "    )\n",
    "\n",
    "    plt.text(\n",
    "        0.5, 0.5, f\"{value:,}\",\n",
    "        ha='center',\n",
    "        va='center',\n",
    "        fontsize=28,\n",
    "        color='white'\n",
    "    )\n",
    "\n",
    "    return fig\n",
    "\n",
    "fig = draw_card(df)\n",
    "plt.show()"
   ]
  },
  {
   "cell_type": "code",
   "execution_count": null,
   "id": "886c5950",
   "metadata": {},
   "outputs": [
    {
     "name": "stderr",
     "output_type": "stream",
     "text": [
      "2025-05-12 06:12:20.732 WARNING streamlit.runtime.scriptrunner_utils.script_run_context: Thread 'MainThread': missing ScriptRunContext! This warning can be ignored when running in bare mode.\n"
     ]
    },
    {
     "ename": "AttributeError",
     "evalue": "'Text' object has no attribute 'savefig'",
     "output_type": "error",
     "traceback": [
      "\u001b[31m---------------------------------------------------------------------------\u001b[39m",
      "\u001b[31mAttributeError\u001b[39m                            Traceback (most recent call last)",
      "\u001b[36mCell\u001b[39m\u001b[36m \u001b[39m\u001b[32mIn[32]\u001b[39m\u001b[32m, line 1\u001b[39m\n\u001b[32m----> \u001b[39m\u001b[32m1\u001b[39m \u001b[43mst\u001b[49m\u001b[43m.\u001b[49m\u001b[43mpyplot\u001b[49m\u001b[43m(\u001b[49m\u001b[43mfig\u001b[49m\u001b[43m)\u001b[49m \u001b[38;5;66;03m# streamlitでfigを表示する\u001b[39;00m\n",
      "\u001b[36mFile \u001b[39m\u001b[32m~/Desktop/Daisuke/2nd_work/customer_analysis/.00_venv/lib/python3.11/site-packages/streamlit/runtime/metrics_util.py:444\u001b[39m, in \u001b[36mgather_metrics.<locals>.wrapped_func\u001b[39m\u001b[34m(*args, **kwargs)\u001b[39m\n\u001b[32m    442\u001b[39m         _LOGGER.debug(\u001b[33m\"\u001b[39m\u001b[33mFailed to collect command telemetry\u001b[39m\u001b[33m\"\u001b[39m, exc_info=ex)\n\u001b[32m    443\u001b[39m \u001b[38;5;28;01mtry\u001b[39;00m:\n\u001b[32m--> \u001b[39m\u001b[32m444\u001b[39m     result = \u001b[43mnon_optional_func\u001b[49m\u001b[43m(\u001b[49m\u001b[43m*\u001b[49m\u001b[43margs\u001b[49m\u001b[43m,\u001b[49m\u001b[43m \u001b[49m\u001b[43m*\u001b[49m\u001b[43m*\u001b[49m\u001b[43mkwargs\u001b[49m\u001b[43m)\u001b[49m\n\u001b[32m    445\u001b[39m \u001b[38;5;28;01mexcept\u001b[39;00m RerunException \u001b[38;5;28;01mas\u001b[39;00m ex:\n\u001b[32m    446\u001b[39m     \u001b[38;5;66;03m# Duplicated from below, because static analysis tools get confused\u001b[39;00m\n\u001b[32m    447\u001b[39m     \u001b[38;5;66;03m# by deferring the rethrow.\u001b[39;00m\n\u001b[32m    448\u001b[39m     \u001b[38;5;28;01mif\u001b[39;00m tracking_activated \u001b[38;5;129;01mand\u001b[39;00m command_telemetry:\n",
      "\u001b[36mFile \u001b[39m\u001b[32m~/Desktop/Daisuke/2nd_work/customer_analysis/.00_venv/lib/python3.11/site-packages/streamlit/elements/pyplot.py:125\u001b[39m, in \u001b[36mPyplotMixin.pyplot\u001b[39m\u001b[34m(self, fig, clear_figure, use_container_width, **kwargs)\u001b[39m\n\u001b[32m    106\u001b[39m             show_deprecation_warning(\u001b[33m\"\"\"\u001b[39m\n\u001b[32m    107\u001b[39m \u001b[33mCalling `st.pyplot()` without providing a figure argument has been deprecated\u001b[39m\n\u001b[32m    108\u001b[39m \u001b[33mand will be removed in a later version as it requires the use of Matplotlib\u001b[39m\u001b[33m'\u001b[39m\u001b[33ms\u001b[39m\n\u001b[32m   (...)\u001b[39m\u001b[32m    121\u001b[39m \u001b[33mknow via [issue on Github](https://github.com/streamlit/streamlit/issues).\u001b[39m\n\u001b[32m    122\u001b[39m \u001b[33m\"\"\"\u001b[39m)\n\u001b[32m    124\u001b[39m         image_list_proto = ImageListProto()\n\u001b[32m--> \u001b[39m\u001b[32m125\u001b[39m         \u001b[43mmarshall\u001b[49m\u001b[43m(\u001b[49m\n\u001b[32m    126\u001b[39m \u001b[43m            \u001b[49m\u001b[38;5;28;43mself\u001b[39;49m\u001b[43m.\u001b[49m\u001b[43mdg\u001b[49m\u001b[43m.\u001b[49m\u001b[43m_get_delta_path_str\u001b[49m\u001b[43m(\u001b[49m\u001b[43m)\u001b[49m\u001b[43m,\u001b[49m\n\u001b[32m    127\u001b[39m \u001b[43m            \u001b[49m\u001b[43mimage_list_proto\u001b[49m\u001b[43m,\u001b[49m\n\u001b[32m    128\u001b[39m \u001b[43m            \u001b[49m\u001b[43mfig\u001b[49m\u001b[43m,\u001b[49m\n\u001b[32m    129\u001b[39m \u001b[43m            \u001b[49m\u001b[43mclear_figure\u001b[49m\u001b[43m,\u001b[49m\n\u001b[32m    130\u001b[39m \u001b[43m            \u001b[49m\u001b[43muse_container_width\u001b[49m\u001b[43m,\u001b[49m\n\u001b[32m    131\u001b[39m \u001b[43m            \u001b[49m\u001b[43m*\u001b[49m\u001b[43m*\u001b[49m\u001b[43mkwargs\u001b[49m\u001b[43m,\u001b[49m\n\u001b[32m    132\u001b[39m \u001b[43m        \u001b[49m\u001b[43m)\u001b[49m\n\u001b[32m    133\u001b[39m         \u001b[38;5;28;01mreturn\u001b[39;00m \u001b[38;5;28mself\u001b[39m.dg._enqueue(\u001b[33m\"\u001b[39m\u001b[33mimgs\u001b[39m\u001b[33m\"\u001b[39m, image_list_proto)\n",
      "\u001b[36mFile \u001b[39m\u001b[32m~/Desktop/Daisuke/2nd_work/customer_analysis/.00_venv/lib/python3.11/site-packages/streamlit/elements/pyplot.py:176\u001b[39m, in \u001b[36mmarshall\u001b[39m\u001b[34m(coordinates, image_list_proto, fig, clear_figure, use_container_width, **kwargs)\u001b[39m\n\u001b[32m    173\u001b[39m kwargs.update(options)\n\u001b[32m    175\u001b[39m image = io.BytesIO()\n\u001b[32m--> \u001b[39m\u001b[32m176\u001b[39m \u001b[43mfig\u001b[49m\u001b[43m.\u001b[49m\u001b[43msavefig\u001b[49m(image, **kwargs)\n\u001b[32m    177\u001b[39m image_width = (\n\u001b[32m    178\u001b[39m     WidthBehavior.COLUMN \u001b[38;5;28;01mif\u001b[39;00m use_container_width \u001b[38;5;28;01melse\u001b[39;00m WidthBehavior.ORIGINAL\n\u001b[32m    179\u001b[39m )\n\u001b[32m    180\u001b[39m marshall_images(\n\u001b[32m    181\u001b[39m     coordinates=coordinates,\n\u001b[32m    182\u001b[39m     image=image,\n\u001b[32m   (...)\u001b[39m\u001b[32m    188\u001b[39m     output_format=\u001b[33m\"\u001b[39m\u001b[33mPNG\u001b[39m\u001b[33m\"\u001b[39m,\n\u001b[32m    189\u001b[39m )\n",
      "\u001b[31mAttributeError\u001b[39m: 'Text' object has no attribute 'savefig'"
     ]
    }
   ],
   "source": []
  }
 ],
 "metadata": {
  "kernelspec": {
   "display_name": ".00_venv",
   "language": "python",
   "name": "python3"
  },
  "language_info": {
   "codemirror_mode": {
    "name": "ipython",
    "version": 3
   },
   "file_extension": ".py",
   "mimetype": "text/x-python",
   "name": "python",
   "nbconvert_exporter": "python",
   "pygments_lexer": "ipython3",
   "version": "3.11.3"
  }
 },
 "nbformat": 4,
 "nbformat_minor": 5
}
